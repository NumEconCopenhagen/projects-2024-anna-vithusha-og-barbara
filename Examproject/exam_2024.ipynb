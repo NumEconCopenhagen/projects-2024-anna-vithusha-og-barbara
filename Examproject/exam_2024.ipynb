{
 "cells": [
  {
   "cell_type": "markdown",
   "metadata": {},
   "source": [
    "**Table of contents**<a id='toc0_'></a>    \n",
    "- 1. [Problem 1: Production economy and CO2 taxation](#toc1_)    \n",
    "- 2. [Problem 2: Career choice model](#toc2_)    \n",
    "- 3. [Problem 3: Barycentric interpolation](#toc3_)    \n",
    "\n",
    "<!-- vscode-jupyter-toc-config\n",
    "\tnumbering=true\n",
    "\tanchor=true\n",
    "\tflat=false\n",
    "\tminLevel=2\n",
    "\tmaxLevel=6\n",
    "\t/vscode-jupyter-toc-config -->\n",
    "<!-- THIS CELL WILL BE REPLACED ON TOC UPDATE. DO NOT WRITE YOUR TEXT IN THIS CELL -->"
   ]
  },
  {
   "cell_type": "code",
   "execution_count": 1583,
   "metadata": {},
   "outputs": [],
   "source": [
    "# Write your code here\n",
    "import numpy as np\n",
    "import pandas as pd\n",
    "from types import SimpleNamespace\n",
    "from scipy import optimize\n",
    "import matplotlib.pyplot as plt"
   ]
  },
  {
   "cell_type": "markdown",
   "metadata": {},
   "source": [
    "## 1. <a id='toc1_'></a>[Problem 1: Production economy and CO2 taxation](#toc0_)"
   ]
  },
  {
   "cell_type": "markdown",
   "metadata": {},
   "source": [
    "Consider a production economy with two firms indexed by $j \\in \\{1,2\\}$. Each produce its own good. They solve\n",
    "\n",
    "$$\n",
    "\\begin{align*}\n",
    "\\max_{y_{j}}\\pi_{j}&=p_{j}y_{j}-w_{j}\\ell_{j}\\\\\\text{s.t.}\\;&y_{j}=A\\ell_{j}^{\\gamma}.\n",
    "\\end{align*}\n",
    "$$\n",
    "\n",
    "Optimal firm behavior is\n",
    "\n",
    "$$\n",
    "\\begin{align*}\n",
    "\\ell_{j}^{\\star}(w,p_{j})&=\\left(\\frac{p_{j}A\\gamma}{w}\\right)^{\\frac{1}{1-\\gamma}} \\\\\n",
    "y_{j}^{\\star}(w,p_{j})&=A\\left(\\ell_{j}^{\\star}(w,p_{j})\\right)^{\\gamma}\n",
    "\\end{align*}\n",
    "$$\n",
    "\n",
    "The implied profits are\n",
    "\n",
    "$$\n",
    "\\pi_{j}^*(w,p_{j})=\\frac{1-\\gamma}{\\gamma}w\\cdot\\left(\\frac{p_{j}A\\gamma}{w}\\right)^{\\frac{1}{1-\\gamma}}\n",
    "$$\n",
    "\n",
    "A single consumer supplies labor, and consumes the goods the firms produce. She also recieves the implied profits of the firm.<br>\n",
    "She solves:\n",
    "\n",
    "$$\n",
    "\\begin{align*}\n",
    "U(p_1,p_2,w,\\tau,T) = \\max_{c_{1},c_{2},\\ell} & \\log(c_{1}^{\\alpha}c_{2}^{1-\\alpha})-\\nu\\frac{\\ell^{1+\\epsilon}}{1+\\epsilon} \\\\\n",
    "\\text{s.t.}\\,\\,\\,&p_{1}c_{1}+(p_{2}+\\tau)c_{2}=w\\ell+T+\\pi_{1}^*(w,p_{1})+\\pi_{2}^*(w,p_{2})\n",
    "\\end{align*}\n",
    "$$\n",
    "\n",
    "where $\\tau$ is a tax and $T$ is lump-sum transfer. <br>\n",
    "For a given $\\ell$, it can be shown that optimal behavior is\n",
    "\n",
    "$$\n",
    "\\begin{align*}\n",
    "c_{1}(\\ell)&=\\alpha\\frac{w\\ell+T+\\pi_{1}^*(w,p_{1})+\\pi_{2}^*(w,p_{2})}{p_{1}} \\\\\n",
    "c_{2}(\\ell)&=(1-\\alpha)\\frac{w\\ell+T+\\pi_{1}^*(w,p_{1})+\\pi_{2}^*(w,p_{2})}{p_{2}+\\tau} \\\\\n",
    "\\end{align*}\n",
    "$$\n",
    "Such that optimal behavior is:\n",
    "$$\n",
    "\\ell^* = \\underset{\\ell}{\\arg\\max} \\log(\\left(c_{1}(\\ell)\\right)^{\\alpha}\\cdot \\left(c_{2}(\\ell)\\right)^{1-\\alpha})-\\nu\\frac{\\ell^{1+\\epsilon}}{1+\\epsilon} \n",
    "$$\n",
    "With optimal consumption:\n",
    "$$\n",
    "\\begin{align*}\n",
    "c_1^*=c_{1}(\\ell^*) \\\\\n",
    "c_2^*=c_{2}(\\ell^*)\\\\\n",
    "\\end{align*}\n",
    "$$\n",
    "\n",
    "\n",
    "The government chooses $\\tau$ and balances its budget so $T=\\tau c_2^*$. We initially set $\\tau,T=0$.\n",
    "\n",
    "Market clearing requires:\n",
    "\n",
    "1. Labor market: $\\ell^* = \\ell_1^* + \\ell_2^*$\n",
    "1. Good market 1: $c_1^* = y_1^*$\n",
    "1. Good market 2: $c_2^* = y_2^*$\n"
   ]
  },
  {
   "cell_type": "markdown",
   "metadata": {},
   "source": [
    "**Question 1:** Check market clearing conditions for $p_1$ in `linspace(0.1,2.0,10)` and $p_2$ in `linspace(0.1,2.0,10)`. We choose $w=1$ as numeraire."
   ]
  },
  {
   "cell_type": "code",
   "execution_count": 1552,
   "metadata": {},
   "outputs": [],
   "source": [
    "par = SimpleNamespace()\n",
    "\n",
    "# firms\n",
    "par.A = 1.0\n",
    "par.gamma = 0.5\n",
    "\n",
    "# households\n",
    "par.alpha = 0.3\n",
    "par.nu = 1.0\n",
    "par.epsilon = 2.0\n",
    "\n",
    "# government\n",
    "par.tau = 0.0\n",
    "par.T = 0.0\n",
    "\n",
    "# Question 3\n",
    "par.kappa = 0.1"
   ]
  },
  {
   "cell_type": "code",
   "execution_count": 1553,
   "metadata": {},
   "outputs": [],
   "source": [
    "# Define optimal profit function\n",
    "def profit(p):\n",
    "    pi = (1-par.gamma)/par.gamma * (p*par.A*par.gamma)**(1/(1-par.gamma))\n",
    "    return pi\n",
    "\n",
    "#define optimal labour demand\n",
    "def labour_dem(p):\n",
    "    l = (p*par.A*par.gamma)**(1/(1-par.gamma))\n",
    "    return l\n",
    "\n",
    "#define optimal output\n",
    "def output(p):\n",
    "    y = par.A*labour_dem(p)**par.gamma\n",
    "    return y\n",
    "\n",
    "#define labour suply\n",
    "def opt_labour_sup(p1, p2):\n",
    "    def labour_sup(l_s):\n",
    "        c1 = par.alpha*(l_s+par.T+profit(p1)+profit(p2))/p1\n",
    "        c2 = (1-par.alpha)*(l_s+par.T+profit(p1)+profit(p2))/(p2+par.tau)\n",
    "        l_s = np.log(c1**par.alpha * c2**(1-par.alpha))-(par.nu*l_s**(1+par.epsilon))/(1+par.epsilon)\n",
    "        return - l_s\n",
    "\n",
    "    results = optimize.minimize_scalar(labour_sup,method='bounded',bounds=(0,1000)) \n",
    "    return results.x"
   ]
  },
  {
   "cell_type": "code",
   "execution_count": 1554,
   "metadata": {},
   "outputs": [
    {
     "name": "stdout",
     "output_type": "stream",
     "text": [
      "Labour market clearing condition is not met\n",
      "Good 1 market clearing condition is not met\n",
      "Good 2 market clearing condition is not met\n"
     ]
    }
   ],
   "source": [
    "# check market clearing conditions\n",
    "labour_market_clearing = []\n",
    "good_1_market_clearing = []\n",
    "good_2_market_clearing = []\n",
    "\n",
    "for p1 in np.linspace(0.1,2.0,10):\n",
    "    for p2 in np.linspace(0.1,2.0,10):\n",
    "        l_1 = labour_dem(p1)\n",
    "        l_2 = labour_dem(p2)\n",
    "        l_s = opt_labour_sup(p1, p2)\n",
    "        y_1 = output(p1)\n",
    "        y_2 = output(p2)\n",
    "        c1 = par.alpha*(l_s+par.T+profit(p1)+profit(p2))/p1\n",
    "        c2 = (1-par.alpha)*(l_s+par.T+profit(p1)+profit(p2))/(p2+par.tau)\n",
    "        #market clearing conditions\n",
    "        if np.isclose(l_1+l_2, l_s):\n",
    "            labour_market_clearing.append(True)\n",
    "        else:\n",
    "            labour_market_clearing.append(False)\n",
    "        if np.isclose(y_1, c1):\n",
    "            good_1_market_clearing.append(True)\n",
    "        else:\n",
    "            good_1_market_clearing.append(False)\n",
    "        if np.isclose(y_2, c2):\n",
    "            good_2_market_clearing.append(True)\n",
    "        else:\n",
    "            good_2_market_clearing.append(False)\n",
    "\n",
    "#print results if market clearing conditions are met\n",
    "if all(labour_market_clearing):\n",
    "    print('Labour market clearing condition is met')\n",
    "else:\n",
    "    print('Labour market clearing condition is not met')\n",
    "\n",
    "if all(good_1_market_clearing):\n",
    "    print('Good 1 market clearing condition is met')\n",
    "else:\n",
    "    print('Good 1 market clearing condition is not met')\n",
    "\n",
    "if all(good_2_market_clearing):\n",
    "    print('Good 2 market clearing condition is met')\n",
    "else:\n",
    "    print('Good 2 market clearing condition is not met')"
   ]
  },
  {
   "cell_type": "markdown",
   "metadata": {},
   "source": [
    "*We see that no markets clear, when grid searching through the provided sets of prices.*"
   ]
  },
  {
   "cell_type": "markdown",
   "metadata": {},
   "source": [
    "**Question 2:** Find the equilibrium prices $p_1$ and $p_2$.<br>\n",
    "*Hint: you can use Walras' law to only check 2 of the market clearings*"
   ]
  },
  {
   "cell_type": "code",
   "execution_count": 1555,
   "metadata": {},
   "outputs": [
    {
     "name": "stdout",
     "output_type": "stream",
     "text": [
      "Equilibrium prices are p1 = 0.97593 and p2 = 1.49076\n"
     ]
    }
   ],
   "source": [
    "#def market clearing conditions\n",
    "def market_clearing(p):\n",
    "    l_1 = labour_dem(p[0])\n",
    "    l_2 = labour_dem(p[1])\n",
    "    l_s = opt_labour_sup(p[0], p[1])\n",
    "    y_1 = output(p[0])\n",
    "    y_2 = output(p[1])\n",
    "    c1 = par.alpha*(l_s+par.T+profit(p[0])+profit(p[1]))/p[0]\n",
    "    c2 = (1-par.alpha)*(l_s+par.T+profit(p[0])+profit(p[1]))/(p[1]+par.tau)\n",
    "    labour_market_clearing = l_1+l_2-l_s\n",
    "    good_market_1_clearing = y_1-c1\n",
    "    return labour_market_clearing, good_market_1_clearing\n",
    "\n",
    "#Using Walras' law we check if the labour market and good 1 market clears and thereby find the equlibrium prices. \n",
    "eq_results=optimize.root(market_clearing,[1.0,1.0])\n",
    "equilibrium_prices=eq_results.x\n",
    "\n",
    "print(f'Equilibrium prices are p1 = {equilibrium_prices[0]:.5f} and p2 = {equilibrium_prices[1]:.5f}')"
   ]
  },
  {
   "cell_type": "markdown",
   "metadata": {},
   "source": [
    "*Allowing for all positive prices with no bounds, yields a set of prices, that clears the markets.*"
   ]
  },
  {
   "cell_type": "markdown",
   "metadata": {},
   "source": [
    "Assume the government care about the social welfare function:\n",
    "\n",
    "$$\n",
    "SWF = U - \\kappa y_2^*\n",
    "$$"
   ]
  },
  {
   "cell_type": "markdown",
   "metadata": {},
   "source": [
    "Here $\\kappa$ measures the social cost of carbon emitted by the production of $y_2$ in equilibrium."
   ]
  },
  {
   "cell_type": "markdown",
   "metadata": {},
   "source": [
    "**Question 3:** What values of $\\tau$ and (implied) $T$ should the government choose to maximize $SWF$?"
   ]
  },
  {
   "cell_type": "markdown",
   "metadata": {},
   "source": [
    "*Due to interdependency of prices and tax level/transfers, we need do update the equilibrium prices in order to find the optimal tax*"
   ]
  },
  {
   "cell_type": "code",
   "execution_count": 1600,
   "metadata": {},
   "outputs": [
    {
     "ename": "AttributeError",
     "evalue": "'types.SimpleNamespace' object has no attribute 'A'",
     "output_type": "error",
     "traceback": [
      "\u001b[1;31m---------------------------------------------------------------------------\u001b[0m",
      "\u001b[1;31mAttributeError\u001b[0m                            Traceback (most recent call last)",
      "Cell \u001b[1;32mIn[1600], line 25\u001b[0m\n\u001b[0;32m     23\u001b[0m tol\u001b[38;5;241m=\u001b[39m\u001b[38;5;241m1e-5\u001b[39m\n\u001b[0;32m     24\u001b[0m bounds \u001b[38;5;241m=\u001b[39m ((tol,\u001b[38;5;241m5.0\u001b[39m), (tol,\u001b[38;5;241m5.0\u001b[39m), (\u001b[38;5;241m0.0\u001b[39m,\u001b[38;5;241m1.0\u001b[39m))\n\u001b[1;32m---> 25\u001b[0m results_sfw \u001b[38;5;241m=\u001b[39m optimize\u001b[38;5;241m.\u001b[39mminimize(social_welfare,tau_0,method\u001b[38;5;241m=\u001b[39m\u001b[38;5;124m'\u001b[39m\u001b[38;5;124mSLSQP\u001b[39m\u001b[38;5;124m'\u001b[39m, bounds\u001b[38;5;241m=\u001b[39mbounds)\n\u001b[0;32m     26\u001b[0m tau_opt \u001b[38;5;241m=\u001b[39m results_sfw\u001b[38;5;241m.\u001b[39mx\n\u001b[0;32m     27\u001b[0m tau_opt\n",
      "File \u001b[1;32mc:\\Users\\PCUser\\anaconda3\\Lib\\site-packages\\scipy\\optimize\\_minimize.py:719\u001b[0m, in \u001b[0;36mminimize\u001b[1;34m(fun, x0, args, method, jac, hess, hessp, bounds, constraints, tol, callback, options)\u001b[0m\n\u001b[0;32m    716\u001b[0m     res \u001b[38;5;241m=\u001b[39m _minimize_cobyla(fun, x0, args, constraints, callback\u001b[38;5;241m=\u001b[39mcallback,\n\u001b[0;32m    717\u001b[0m                            bounds\u001b[38;5;241m=\u001b[39mbounds, \u001b[38;5;241m*\u001b[39m\u001b[38;5;241m*\u001b[39moptions)\n\u001b[0;32m    718\u001b[0m \u001b[38;5;28;01melif\u001b[39;00m meth \u001b[38;5;241m==\u001b[39m \u001b[38;5;124m'\u001b[39m\u001b[38;5;124mslsqp\u001b[39m\u001b[38;5;124m'\u001b[39m:\n\u001b[1;32m--> 719\u001b[0m     res \u001b[38;5;241m=\u001b[39m _minimize_slsqp(fun, x0, args, jac, bounds,\n\u001b[0;32m    720\u001b[0m                           constraints, callback\u001b[38;5;241m=\u001b[39mcallback, \u001b[38;5;241m*\u001b[39m\u001b[38;5;241m*\u001b[39moptions)\n\u001b[0;32m    721\u001b[0m \u001b[38;5;28;01melif\u001b[39;00m meth \u001b[38;5;241m==\u001b[39m \u001b[38;5;124m'\u001b[39m\u001b[38;5;124mtrust-constr\u001b[39m\u001b[38;5;124m'\u001b[39m:\n\u001b[0;32m    722\u001b[0m     res \u001b[38;5;241m=\u001b[39m _minimize_trustregion_constr(fun, x0, args, jac, hess, hessp,\n\u001b[0;32m    723\u001b[0m                                        bounds, constraints,\n\u001b[0;32m    724\u001b[0m                                        callback\u001b[38;5;241m=\u001b[39mcallback, \u001b[38;5;241m*\u001b[39m\u001b[38;5;241m*\u001b[39moptions)\n",
      "File \u001b[1;32mc:\\Users\\PCUser\\anaconda3\\Lib\\site-packages\\scipy\\optimize\\_slsqp_py.py:374\u001b[0m, in \u001b[0;36m_minimize_slsqp\u001b[1;34m(func, x0, args, jac, bounds, constraints, maxiter, ftol, iprint, disp, eps, callback, finite_diff_rel_step, **unknown_options)\u001b[0m\n\u001b[0;32m    371\u001b[0m     xu[infbnd[:, \u001b[38;5;241m1\u001b[39m]] \u001b[38;5;241m=\u001b[39m np\u001b[38;5;241m.\u001b[39mnan\n\u001b[0;32m    373\u001b[0m \u001b[38;5;66;03m# ScalarFunction provides function and gradient evaluation\u001b[39;00m\n\u001b[1;32m--> 374\u001b[0m sf \u001b[38;5;241m=\u001b[39m _prepare_scalar_function(func, x, jac\u001b[38;5;241m=\u001b[39mjac, args\u001b[38;5;241m=\u001b[39margs, epsilon\u001b[38;5;241m=\u001b[39meps,\n\u001b[0;32m    375\u001b[0m                               finite_diff_rel_step\u001b[38;5;241m=\u001b[39mfinite_diff_rel_step,\n\u001b[0;32m    376\u001b[0m                               bounds\u001b[38;5;241m=\u001b[39mnew_bounds)\n\u001b[0;32m    377\u001b[0m \u001b[38;5;66;03m# gh11403 SLSQP sometimes exceeds bounds by 1 or 2 ULP, make sure this\u001b[39;00m\n\u001b[0;32m    378\u001b[0m \u001b[38;5;66;03m# doesn't get sent to the func/grad evaluator.\u001b[39;00m\n\u001b[0;32m    379\u001b[0m wrapped_fun \u001b[38;5;241m=\u001b[39m _clip_x_for_func(sf\u001b[38;5;241m.\u001b[39mfun, new_bounds)\n",
      "File \u001b[1;32mc:\\Users\\PCUser\\anaconda3\\Lib\\site-packages\\scipy\\optimize\\_optimize.py:383\u001b[0m, in \u001b[0;36m_prepare_scalar_function\u001b[1;34m(fun, x0, jac, args, bounds, epsilon, finite_diff_rel_step, hess)\u001b[0m\n\u001b[0;32m    379\u001b[0m     bounds \u001b[38;5;241m=\u001b[39m (\u001b[38;5;241m-\u001b[39mnp\u001b[38;5;241m.\u001b[39minf, np\u001b[38;5;241m.\u001b[39minf)\n\u001b[0;32m    381\u001b[0m \u001b[38;5;66;03m# ScalarFunction caches. Reuse of fun(x) during grad\u001b[39;00m\n\u001b[0;32m    382\u001b[0m \u001b[38;5;66;03m# calculation reduces overall function evaluations.\u001b[39;00m\n\u001b[1;32m--> 383\u001b[0m sf \u001b[38;5;241m=\u001b[39m ScalarFunction(fun, x0, args, grad, hess,\n\u001b[0;32m    384\u001b[0m                     finite_diff_rel_step, bounds, epsilon\u001b[38;5;241m=\u001b[39mepsilon)\n\u001b[0;32m    386\u001b[0m \u001b[38;5;28;01mreturn\u001b[39;00m sf\n",
      "File \u001b[1;32mc:\\Users\\PCUser\\anaconda3\\Lib\\site-packages\\scipy\\optimize\\_differentiable_functions.py:158\u001b[0m, in \u001b[0;36mScalarFunction.__init__\u001b[1;34m(self, fun, x0, args, grad, hess, finite_diff_rel_step, finite_diff_bounds, epsilon)\u001b[0m\n\u001b[0;32m    155\u001b[0m     \u001b[38;5;28mself\u001b[39m\u001b[38;5;241m.\u001b[39mf \u001b[38;5;241m=\u001b[39m fun_wrapped(\u001b[38;5;28mself\u001b[39m\u001b[38;5;241m.\u001b[39mx)\n\u001b[0;32m    157\u001b[0m \u001b[38;5;28mself\u001b[39m\u001b[38;5;241m.\u001b[39m_update_fun_impl \u001b[38;5;241m=\u001b[39m update_fun\n\u001b[1;32m--> 158\u001b[0m \u001b[38;5;28mself\u001b[39m\u001b[38;5;241m.\u001b[39m_update_fun()\n\u001b[0;32m    160\u001b[0m \u001b[38;5;66;03m# Gradient evaluation\u001b[39;00m\n\u001b[0;32m    161\u001b[0m \u001b[38;5;28;01mif\u001b[39;00m \u001b[38;5;28mcallable\u001b[39m(grad):\n",
      "File \u001b[1;32mc:\\Users\\PCUser\\anaconda3\\Lib\\site-packages\\scipy\\optimize\\_differentiable_functions.py:251\u001b[0m, in \u001b[0;36mScalarFunction._update_fun\u001b[1;34m(self)\u001b[0m\n\u001b[0;32m    249\u001b[0m \u001b[38;5;28;01mdef\u001b[39;00m \u001b[38;5;21m_update_fun\u001b[39m(\u001b[38;5;28mself\u001b[39m):\n\u001b[0;32m    250\u001b[0m     \u001b[38;5;28;01mif\u001b[39;00m \u001b[38;5;129;01mnot\u001b[39;00m \u001b[38;5;28mself\u001b[39m\u001b[38;5;241m.\u001b[39mf_updated:\n\u001b[1;32m--> 251\u001b[0m         \u001b[38;5;28mself\u001b[39m\u001b[38;5;241m.\u001b[39m_update_fun_impl()\n\u001b[0;32m    252\u001b[0m         \u001b[38;5;28mself\u001b[39m\u001b[38;5;241m.\u001b[39mf_updated \u001b[38;5;241m=\u001b[39m \u001b[38;5;28;01mTrue\u001b[39;00m\n",
      "File \u001b[1;32mc:\\Users\\PCUser\\anaconda3\\Lib\\site-packages\\scipy\\optimize\\_differentiable_functions.py:155\u001b[0m, in \u001b[0;36mScalarFunction.__init__.<locals>.update_fun\u001b[1;34m()\u001b[0m\n\u001b[0;32m    154\u001b[0m \u001b[38;5;28;01mdef\u001b[39;00m \u001b[38;5;21mupdate_fun\u001b[39m():\n\u001b[1;32m--> 155\u001b[0m     \u001b[38;5;28mself\u001b[39m\u001b[38;5;241m.\u001b[39mf \u001b[38;5;241m=\u001b[39m fun_wrapped(\u001b[38;5;28mself\u001b[39m\u001b[38;5;241m.\u001b[39mx)\n",
      "File \u001b[1;32mc:\\Users\\PCUser\\anaconda3\\Lib\\site-packages\\scipy\\optimize\\_differentiable_functions.py:137\u001b[0m, in \u001b[0;36mScalarFunction.__init__.<locals>.fun_wrapped\u001b[1;34m(x)\u001b[0m\n\u001b[0;32m    133\u001b[0m \u001b[38;5;28mself\u001b[39m\u001b[38;5;241m.\u001b[39mnfev \u001b[38;5;241m+\u001b[39m\u001b[38;5;241m=\u001b[39m \u001b[38;5;241m1\u001b[39m\n\u001b[0;32m    134\u001b[0m \u001b[38;5;66;03m# Send a copy because the user may overwrite it.\u001b[39;00m\n\u001b[0;32m    135\u001b[0m \u001b[38;5;66;03m# Overwriting results in undefined behaviour because\u001b[39;00m\n\u001b[0;32m    136\u001b[0m \u001b[38;5;66;03m# fun(self.x) will change self.x, with the two no longer linked.\u001b[39;00m\n\u001b[1;32m--> 137\u001b[0m fx \u001b[38;5;241m=\u001b[39m fun(np\u001b[38;5;241m.\u001b[39mcopy(x), \u001b[38;5;241m*\u001b[39margs)\n\u001b[0;32m    138\u001b[0m \u001b[38;5;66;03m# Make sure the function returns a true scalar\u001b[39;00m\n\u001b[0;32m    139\u001b[0m \u001b[38;5;28;01mif\u001b[39;00m \u001b[38;5;129;01mnot\u001b[39;00m np\u001b[38;5;241m.\u001b[39misscalar(fx):\n",
      "Cell \u001b[1;32mIn[1600], line 6\u001b[0m, in \u001b[0;36msocial_welfare\u001b[1;34m(prices_and_tau)\u001b[0m\n\u001b[0;32m      2\u001b[0m \u001b[38;5;28;01mdef\u001b[39;00m \u001b[38;5;21msocial_welfare\u001b[39m(prices_and_tau):\n\u001b[0;32m      4\u001b[0m     p1, p2, tau \u001b[38;5;241m=\u001b[39m prices_and_tau\n\u001b[1;32m----> 6\u001b[0m     l_1 \u001b[38;5;241m=\u001b[39m labour_dem(p1)\n\u001b[0;32m      7\u001b[0m     l_2 \u001b[38;5;241m=\u001b[39m labour_dem(p2)\n\u001b[0;32m      8\u001b[0m     l_s \u001b[38;5;241m=\u001b[39m opt_labour_sup(p1, p2)\n",
      "Cell \u001b[1;32mIn[1553], line 8\u001b[0m, in \u001b[0;36mlabour_dem\u001b[1;34m(p)\u001b[0m\n\u001b[0;32m      7\u001b[0m \u001b[38;5;28;01mdef\u001b[39;00m \u001b[38;5;21mlabour_dem\u001b[39m(p):\n\u001b[1;32m----> 8\u001b[0m     l \u001b[38;5;241m=\u001b[39m (p\u001b[38;5;241m*\u001b[39mpar\u001b[38;5;241m.\u001b[39mA\u001b[38;5;241m*\u001b[39mpar\u001b[38;5;241m.\u001b[39mgamma)\u001b[38;5;241m*\u001b[39m\u001b[38;5;241m*\u001b[39m(\u001b[38;5;241m1\u001b[39m\u001b[38;5;241m/\u001b[39m(\u001b[38;5;241m1\u001b[39m\u001b[38;5;241m-\u001b[39mpar\u001b[38;5;241m.\u001b[39mgamma))\n\u001b[0;32m      9\u001b[0m     \u001b[38;5;28;01mreturn\u001b[39;00m l\n",
      "\u001b[1;31mAttributeError\u001b[0m: 'types.SimpleNamespace' object has no attribute 'A'"
     ]
    }
   ],
   "source": [
    "#Defininf the social welfare function\n",
    "def social_welfare(prices_and_tau):\n",
    "\n",
    "    p1, p2, tau = prices_and_tau\n",
    "    \n",
    "    l_1 = labour_dem(p1)\n",
    "    l_2 = labour_dem(p2)\n",
    "    l_s = opt_labour_sup(p1, p2)\n",
    "    y_1 = output(p1)\n",
    "    y_2 = output(p2)\n",
    "    c1 = par.alpha*(l_s+tau*y_2+profit(p1)+profit(p2))/p1\n",
    "    c2 = (1-par.alpha)*(l_s+tau*y_2+profit(p1)+profit(p2))/(p2+tau)\n",
    "\n",
    "    SWF = np.log(c1 ** par.alpha * c2 ** (1 - par.alpha)) - (par.nu * l_s ** (1 + par.epsilon)) / (1 + par.epsilon) - par.kappa * y_2\n",
    "\n",
    "    if np.isclose(l_1 + l_2, l_s) and np.isclose(y_1, c1):\n",
    "        return -SWF  # maximize SWF by minimizing -SWF\n",
    "    else:\n",
    "        return np.inf\n",
    "\n",
    "tau_0 = [0.98,1.49,0.2] #initial guess: equlibrium prices from previous question, and tau = 0.2\n",
    "\n",
    "tol=1e-5\n",
    "bounds = ((tol,5.0), (tol,5.0), (0.0,1.0))\n",
    "results_sfw = optimize.minimize(social_welfare,tau_0,method='SLSQP', bounds=bounds)\n",
    "tau_opt = results_sfw.x\n",
    "tau_opt\n",
    "#show new prices and optimal tau\n",
    "print(f'Equilibrium prices are p1 = {tau_opt[0]:.7f}, p2 = {tau_opt[1]:.7f} and tau = {tau_opt[2]:.7f}')\n",
    "\n",
    "y_2_opt = output(tau_opt[1])\n",
    "T = tau_opt[2]*y_2_opt   \n",
    "\n",
    "#show optimal tau and thereby T\n",
    "print(f'Tau that maximise SWF is {tau_opt[2]:.3f} and T = {T:.3f}')"
   ]
  },
  {
   "cell_type": "markdown",
   "metadata": {},
   "source": [
    "*We see that optimizing the SWF return the initial guesses. We have tried the optimizing processes for a lot of different initial guesses, however the optimizer keeps returning the initial guess. This could be an indication, that only one set of prices clears the market and that this is not compatable with taxation, however we are not entirely sure, why $\\tau = 0$ is not returned in this case.*"
   ]
  },
  {
   "cell_type": "markdown",
   "metadata": {},
   "source": [
    "## 2. <a id='toc2_'></a>[Problem 2: Career choice model](#toc0_)"
   ]
  },
  {
   "cell_type": "markdown",
   "metadata": {},
   "source": [
    "Consider a graduate $i$ making a choice between entering $J$ different career tracks. <br>\n",
    "Entering career $j$ yields utility $u^k_{ij}$. This value is unknown to the graduate ex ante, but will ex post be: <br>\n",
    "$$\n",
    "    u_{i,j}^k = v_{j} + \\epsilon_{i,j}^k\n",
    "$$\n",
    "\n",
    "They know that $\\epsilon^k_{i,j}\\sim \\mathcal{N}(0,\\sigma^2)$, but they do not observe $\\epsilon^k_{i,j}$ before making their career choice. <br>"
   ]
  },
  {
   "cell_type": "markdown",
   "metadata": {},
   "source": [
    "Consider the concrete case of $J=3$ with:\n",
    "$$\n",
    "\\begin{align*}\n",
    "    v_{1} &= 1 \\\\\n",
    "    v_{2} &= 2 \\\\\n",
    "    v_{3} &= 3\n",
    "\\end{align*}\n",
    "$$"
   ]
  },
  {
   "cell_type": "markdown",
   "metadata": {},
   "source": [
    "If the graduates know the values of $v_j$ and the distribution of $\\epsilon_{i,j}^k$, they can calculate the expected utility of each career track using simulation: <br>\n",
    "$$\n",
    "    \\mathbb{E}\\left[ u^k_{i,j}\\vert v_j \\right] \\approx v_j + \\frac{1}{K}\\sum_{k=1}^K \\epsilon_{i,j}^k\n",
    "$$"
   ]
  },
  {
   "cell_type": "code",
   "execution_count": 1558,
   "metadata": {},
   "outputs": [],
   "source": [
    "par = SimpleNamespace()\n",
    "par.J = 3\n",
    "par.N = 10\n",
    "par.K = 10000\n",
    "\n",
    "par.F = np.arange(1,par.N+1)\n",
    "par.sigma = 2\n",
    "\n",
    "par.v = np.array([1,2,3])\n",
    "par.c = 1"
   ]
  },
  {
   "cell_type": "markdown",
   "metadata": {},
   "source": [
    "**Question 1:** Simulate and calculate expected utility and the average realised utility for $K=10000$ draws, for each career choice $j$.\n"
   ]
  },
  {
   "cell_type": "code",
   "execution_count": 1579,
   "metadata": {},
   "outputs": [
    {
     "data": {
      "text/html": [
       "<div>\n",
       "<style scoped>\n",
       "    .dataframe tbody tr th:only-of-type {\n",
       "        vertical-align: middle;\n",
       "    }\n",
       "\n",
       "    .dataframe tbody tr th {\n",
       "        vertical-align: top;\n",
       "    }\n",
       "\n",
       "    .dataframe thead th {\n",
       "        text-align: right;\n",
       "    }\n",
       "</style>\n",
       "<table border=\"1\" class=\"dataframe\">\n",
       "  <thead>\n",
       "    <tr style=\"text-align: right;\">\n",
       "      <th></th>\n",
       "      <th>Expected utility</th>\n",
       "      <th>Average realised utility</th>\n",
       "    </tr>\n",
       "  </thead>\n",
       "  <tbody>\n",
       "    <tr>\n",
       "      <th>Career 1</th>\n",
       "      <td>0.986</td>\n",
       "      <td>0.986</td>\n",
       "    </tr>\n",
       "    <tr>\n",
       "      <th>Career 2</th>\n",
       "      <td>1.989</td>\n",
       "      <td>1.989</td>\n",
       "    </tr>\n",
       "    <tr>\n",
       "      <th>Career 3</th>\n",
       "      <td>2.982</td>\n",
       "      <td>2.982</td>\n",
       "    </tr>\n",
       "  </tbody>\n",
       "</table>\n",
       "</div>"
      ],
      "text/plain": [
       "          Expected utility  Average realised utility\n",
       "Career 1             0.986                     0.986\n",
       "Career 2             1.989                     1.989\n",
       "Career 3             2.982                     2.982"
      ]
     },
     "execution_count": 1579,
     "metadata": {},
     "output_type": "execute_result"
    }
   ],
   "source": [
    "#set seed\n",
    "np.random.seed(17)\n",
    "\n",
    "#simulate epsilon\n",
    "epsilon = np.random.normal(0,par.sigma,(par.J,par.K))\n",
    "\n",
    "#expected utility\n",
    "expected_utility = np.zeros(par.J)\n",
    "for j in range(par.J):\n",
    "    expected_utility[j] = par.v[j] + 1/par.K * np.sum(epsilon[j,:])\n",
    "\n",
    "#realised utility\n",
    "realised_utility = np.zeros((par.J, par.K))\n",
    "for j in range(par.J):\n",
    "    for k in range(par.K):\n",
    "        realised_utility[j,k] = par.v[j] + epsilon[j,k]\n",
    "\n",
    "average_realised_utility = np.mean(realised_utility, axis=1)\n",
    "\n",
    "#dataframe with expected and average realised utility with 3 decimals\n",
    "dataframe = pd.DataFrame({'Expected utility': expected_utility, 'Average realised utility': average_realised_utility}).round(3)\n",
    "\n",
    "#change row names to career 1, career 2 and career 3\n",
    "dataframe.index = ['Career 1', 'Career 2', 'Career 3']\n",
    "dataframe\n"
   ]
  },
  {
   "cell_type": "markdown",
   "metadata": {},
   "source": [
    "*Since the graduates calculate the expected utility based on simulations, that correspond to the realized values, and know true values of $v_j$ fully, expected utility is equivalent to average realized utility.*"
   ]
  },
  {
   "cell_type": "markdown",
   "metadata": {},
   "source": [
    "Now consider a new scenario: Imagine that the graduate does not know $v_j$. The *only* prior information they have on the value of each job, comes from their $F_{i}$ friends that work in each career $j$. After talking with them, they know the average utility of their friends (which includes their friends' noise term), giving them the prior expecation: <br>\n",
    "$$\n",
    "\\tilde{u}^k_{i,j}\\left( F_{i}\\right) = \\frac{1}{F_{i}}\\sum_{f=1}^{F_{i}} \\left(v_{j} + \\epsilon^k_{f,j}\\right), \\; \\epsilon^k_{f,j}\\sim \\mathcal{N}(0,\\sigma^2)\n",
    "$$\n",
    "For ease of notation consider that each graduate have $F_{i}=i$ friends in each career. <br>"
   ]
  },
  {
   "cell_type": "markdown",
   "metadata": {},
   "source": [
    "For $K$ times do the following: <br>\n",
    "1. For each person $i$ draw $J\\cdot F_i$ values of $\\epsilon_{f,j}^{k}$, and calculate the prior expected utility of each career track, $\\tilde{u}^k_{i,j}\\left( F_{i}\\right)$. <br>\n",
    "Also draw their own $J$ noise terms, $\\epsilon_{i,j}^k$\n",
    "1. Each person $i$ chooses the career track with the highest expected utility: $$j_i^{k*}= \\arg\\max_{j\\in{1,2\\dots,J}}\\left\\{ \\tilde{u}^k_{i,j}\\left( F_{i}\\right)\\right\\} $$\n",
    "1. Store the chosen careers: $j_i^{k*}$, the prior expectation of the value of their chosen career: $\\tilde{u}^k_{i,j=j_i^{k*}}\\left( F_{i}\\right)$, and the realized value of their chosen career track: $u^k_{i,j=j_i^{k*}}=v_{j=j_i^{k*}}+\\epsilon_{i,j=j_i^{k*}}^k$."
   ]
  },
  {
   "cell_type": "markdown",
   "metadata": {},
   "source": [
    "Chosen values will be: <br>\n",
    "$i\\in\\left\\{1,2\\dots,N\\right\\}, N=10$ <br>\n",
    "$F_i = i$<br>\n",
    "So there are 10 graduates. The first has 1 friend in each career, the second has 2 friends, ... the tenth has 10 friends."
   ]
  },
  {
   "cell_type": "markdown",
   "metadata": {},
   "source": [
    "**Question 2:** Simulate and visualize: For each type of graduate, $i$, the share of graduates choosing each career, the average subjective expected utility of the graduates, and the average ex post realized utility given their choice. <br>\n",
    "That is, calculate and visualize: <br>\n",
    "$$\n",
    "\\begin{align*}\n",
    "    \\frac{1}{K} \\sum_{k=1}^{K} \\mathbb{I}\\left\\{ j=j_i^{k*} \\right\\}  \\;\\forall j\\in\\left\\{1,2,\\dots,J\\right\\}\n",
    "\\end{align*}\n",
    "$$\n",
    "$$\n",
    "\\begin{align*}\n",
    "    \\frac{1}{K} \\sum_{k=1}^{K} \\tilde{u}^k_{ij=j_i^{k*}}\\left( F_{i}\\right)\n",
    "\\end{align*}\n",
    "$$\n",
    "And \n",
    "$$\n",
    "\\begin{align*}\n",
    "    \\frac{1}{K} \\sum_{k=1}^{K} u^k_{ij=j_i^{k*}} \n",
    "\\end{align*}\n",
    "$$\n",
    "For each graduate $i$."
   ]
  },
  {
   "cell_type": "code",
   "execution_count": 1560,
   "metadata": {},
   "outputs": [],
   "source": [
    "# initialise arrays\n",
    "prior_expected_utility = np.zeros((par.N, par.J, par.K))\n",
    "realised_utility = np.zeros((par.N, par.K))\n",
    "realised_utility_all = np.zeros((par.N, par.J, par.K))\n",
    "epsilon_own = np.random.normal(0, par.sigma, (par.N, par.J, par.K))\n",
    "\n",
    "for k in range(par.K):\n",
    "    for i in range(par.N):\n",
    "        epsilon_friends = np.random.normal(0, par.sigma, (par.F[i],par.J))\n",
    "\n",
    "        for j in range(par.J):\n",
    "            prior_expected_utility[i,j,k] = np.mean(par.v[j] + epsilon_friends[:,j])\n",
    "            #find best career choice\n",
    "            career = np.argmax(prior_expected_utility, axis=1)\n",
    "\n",
    "            # Calculate realised utility for all careers\n",
    "            realised_utility_all[i, j, k] = par.v[j] + epsilon_own[i,j,k] \n",
    "\n",
    "        #realised utility given career choice\n",
    "        realised_utility[i,k] = par.v[career[i,k]] + epsilon_own[i,career[i,k],k]\n"
   ]
  },
  {
   "cell_type": "code",
   "execution_count": 1599,
   "metadata": {},
   "outputs": [
    {
     "ename": "ValueError",
     "evalue": "all the input array dimensions except for the concatenation axis must match exactly, but along dimension 0, the array at index 0 has size 10 and the array at index 2 has size 3",
     "output_type": "error",
     "traceback": [
      "\u001b[1;31m---------------------------------------------------------------------------\u001b[0m",
      "\u001b[1;31mValueError\u001b[0m                                Traceback (most recent call last)",
      "Cell \u001b[1;32mIn[1599], line 17\u001b[0m\n\u001b[0;32m     14\u001b[0m average_realised_utility \u001b[38;5;241m=\u001b[39m average_realised_utility\u001b[38;5;241m.\u001b[39mreshape(\u001b[38;5;241m-\u001b[39m\u001b[38;5;241m1\u001b[39m, \u001b[38;5;241m1\u001b[39m)  \u001b[38;5;66;03m# Reshape to column vector\u001b[39;00m\n\u001b[0;32m     16\u001b[0m \u001b[38;5;66;03m# Concatenate all arrays horizontally\u001b[39;00m\n\u001b[1;32m---> 17\u001b[0m table \u001b[38;5;241m=\u001b[39m np\u001b[38;5;241m.\u001b[39mhstack((share, average_prior_expected_utility, average_realised_utility))\n\u001b[0;32m     19\u001b[0m \u001b[38;5;66;03m# Create a pandas DataFrame for better display\u001b[39;00m\n\u001b[0;32m     20\u001b[0m column_names \u001b[38;5;241m=\u001b[39m [\u001b[38;5;124mf\u001b[39m\u001b[38;5;124m'\u001b[39m\u001b[38;5;124mShare_\u001b[39m\u001b[38;5;132;01m{\u001b[39;00mj\u001b[38;5;241m+\u001b[39m\u001b[38;5;241m1\u001b[39m\u001b[38;5;132;01m}\u001b[39;00m\u001b[38;5;124m'\u001b[39m \u001b[38;5;28;01mfor\u001b[39;00m j \u001b[38;5;129;01min\u001b[39;00m \u001b[38;5;28mrange\u001b[39m(par\u001b[38;5;241m.\u001b[39mJ)] \u001b[38;5;241m+\u001b[39m [\u001b[38;5;124mf\u001b[39m\u001b[38;5;124m'\u001b[39m\u001b[38;5;124mAvg_prior_exp_u_\u001b[39m\u001b[38;5;132;01m{\u001b[39;00mj\u001b[38;5;241m+\u001b[39m\u001b[38;5;241m1\u001b[39m\u001b[38;5;132;01m}\u001b[39;00m\u001b[38;5;124m'\u001b[39m \u001b[38;5;28;01mfor\u001b[39;00m j \u001b[38;5;129;01min\u001b[39;00m \u001b[38;5;28mrange\u001b[39m(\u001b[38;5;241m3\u001b[39m)] \u001b[38;5;241m+\u001b[39m [\u001b[38;5;124m'\u001b[39m\u001b[38;5;124mAvg_realised_Utility\u001b[39m\u001b[38;5;124m'\u001b[39m]\n",
      "File \u001b[1;32mc:\\Users\\PCUser\\anaconda3\\Lib\\site-packages\\numpy\\core\\shape_base.py:359\u001b[0m, in \u001b[0;36mhstack\u001b[1;34m(tup, dtype, casting)\u001b[0m\n\u001b[0;32m    357\u001b[0m     \u001b[38;5;28;01mreturn\u001b[39;00m _nx\u001b[38;5;241m.\u001b[39mconcatenate(arrs, \u001b[38;5;241m0\u001b[39m, dtype\u001b[38;5;241m=\u001b[39mdtype, casting\u001b[38;5;241m=\u001b[39mcasting)\n\u001b[0;32m    358\u001b[0m \u001b[38;5;28;01melse\u001b[39;00m:\n\u001b[1;32m--> 359\u001b[0m     \u001b[38;5;28;01mreturn\u001b[39;00m _nx\u001b[38;5;241m.\u001b[39mconcatenate(arrs, \u001b[38;5;241m1\u001b[39m, dtype\u001b[38;5;241m=\u001b[39mdtype, casting\u001b[38;5;241m=\u001b[39mcasting)\n",
      "\u001b[1;31mValueError\u001b[0m: all the input array dimensions except for the concatenation axis must match exactly, but along dimension 0, the array at index 0 has size 10 and the array at index 2 has size 3"
     ]
    }
   ],
   "source": [
    "#share of graduates choosing career j\n",
    "share = np.zeros((par.J, par.N))\n",
    "for i in range(par.N):\n",
    "    for j in range(par.J):\n",
    "        share[j,i] = np.sum(career[i,:]==j)/par.K\n",
    "    #average prior expected utility\n",
    "    average_prior_expected_utility = np.mean(prior_expected_utility, axis=2)\n",
    "    #average realised utility\n",
    "    average_realised_utility = np.mean(realised_utility, axis=1)\n",
    "\n",
    "#display share, average_prior_expected_utility and average_realised_utility in a table\n",
    "share = share.T  # Transpose to shape (N, J)\n",
    "average_prior_expected_utility = average_prior_expected_utility[:, :3]  # Assuming first 3 columns\n",
    "average_realised_utility = average_realised_utility.reshape(-1, 1)  # Reshape to column vector\n",
    "\n",
    "# Concatenate all arrays horizontally\n",
    "table = np.hstack((share, average_prior_expected_utility, average_realised_utility))\n",
    "\n",
    "# Create a pandas DataFrame for better display\n",
    "column_names = [f'Share_{j+1}' for j in range(par.J)] + [f'Avg_prior_exp_u_{j+1}' for j in range(3)] + ['Avg_realised_Utility']\n",
    "df = pd.DataFrame(table, columns=column_names, index=[f'Graduate_{i+1}' for i in range(par.N)])\n",
    "\n",
    "# Display the table\n",
    "df"
   ]
  },
  {
   "cell_type": "markdown",
   "metadata": {},
   "source": [
    "*We see here that graduates with fewer friends are more prone to choose carrer 1 or 2, in spite of the lower deterministic utility in these careers, and a high share of graduates with many friends choose career 3. This is due to the information level increasing with the number of friends, since then the noise from their friends will vary more precisely around v. Further we see that the types of graduades more prone to choose career 3, also has higher average realized utility.* "
   ]
  },
  {
   "cell_type": "markdown",
   "metadata": {},
   "source": [
    "After a year of working in their career, the graduates learn $u^k_{ij}$ for their chosen job $j_i^{k*}$ perfectly. <br>\n",
    "The can switch to one of the two remaining careers, for which they have the same prior as before, but it will now include a switching cost of $c$ which is known.\n",
    "Their new priors can be written as: \n",
    "$$\n",
    "\\tilde{u}^{k,2}_{ij}\\left( F_{i}\\right) = \\begin{cases}\n",
    "            \\tilde{u}^k_{ij}\\left( F_{i}\\right)-c & \\text{if } j \\neq j_i^{k*} \\\\\n",
    "            u_{ij=j_i^{k*}} & \\text{if } j = j_i^{k*}\n",
    "        \\end{cases}\n",
    "$$"
   ]
  },
  {
   "cell_type": "markdown",
   "metadata": {},
   "source": [
    "We will set $c=1$."
   ]
  },
  {
   "cell_type": "markdown",
   "metadata": {},
   "source": [
    "Their realized utility will be: <br>\n",
    "$$\n",
    "u^{k,2}_{ij}= \\begin{cases}\n",
    "            u_{ij}^k -c & \\text{if } j \\neq j_i^{k*} \\\\\n",
    "            u_{ij=j_i^{k*}} & \\text{if } j = j_i^{k*}\n",
    "        \\end{cases}\n",
    "$$"
   ]
  },
  {
   "cell_type": "markdown",
   "metadata": {},
   "source": [
    "**Question 3:** Following the same approach as in question 2, find the new optimal career choice for each $i$, $k$. Then for each $i$, calculate the average subjective expected utility from their new optimal career choice, and the ex post realized utility of that career. Also, for each $i$, calculate the share of graduates that chooses to switch careers, conditional on which career they chose in the first year. <br>"
   ]
  },
  {
   "cell_type": "code",
   "execution_count": 1562,
   "metadata": {},
   "outputs": [],
   "source": [
    "# Initialize arrays\n",
    "prior_expected_utility_new = np.zeros((par.N, par.J, par.K))\n",
    "prior_expected_utility_chosen = np.zeros((par.N, par.K))\n",
    "realised_utility_new = np.zeros((par.N, par.K))\n",
    "updated_careers = np.zeros((par.N, par.K), dtype=int)  # To track updated careers after comparison\n",
    "comparison_results = np.zeros((par.N, par.K), dtype=bool) # Initialize comparison results\n",
    "\n",
    "for k in range(par.K):\n",
    "    for i in range(par.N):\n",
    "        chosen_career = career[i, k]\n",
    "        \n",
    "        # Modify prior_expected_utility for non-chosen careers\n",
    "        for j in range(par.J):\n",
    "            if j != chosen_career:\n",
    "                prior_expected_utility_new[i,j,k] = prior_expected_utility[i,j,k] - 1\n",
    "            else:\n",
    "                prior_expected_utility_new[i,j,k] = realised_utility[i,k]\n",
    "\n",
    "            #find best career choice given new prior expected utility\n",
    "            career_new = np.argmax(prior_expected_utility_new, axis=1)\n",
    "\n",
    "\n",
    "        #realised utility given new career choice (before cost of switching)\n",
    "        realised_utility_new[i,k] = par.v[career_new[i,k]] + epsilon_own[i,career_new[i,k],k]\n",
    "\n",
    "        #Prior expected utility for chosen career\n",
    "        prior_expected_utility_chosen[i,k] = prior_expected_utility_new[i,career_new[i,k],k] \n",
    "\n",
    "        # Adjust realised utility after cost of switching\n",
    "        if realised_utility_new[i,k] != realised_utility[i,k]:\n",
    "            realised_utility_new[i,k] = realised_utility_new[i,k] - 1\n",
    "        else:\n",
    "            realised_utility_new[i,k] = realised_utility_new[i,k]"
   ]
  },
  {
   "cell_type": "code",
   "execution_count": 1598,
   "metadata": {},
   "outputs": [
    {
     "data": {
      "text/html": [
       "<div>\n",
       "<style scoped>\n",
       "    .dataframe tbody tr th:only-of-type {\n",
       "        vertical-align: middle;\n",
       "    }\n",
       "\n",
       "    .dataframe tbody tr th {\n",
       "        vertical-align: top;\n",
       "    }\n",
       "\n",
       "    .dataframe thead th {\n",
       "        text-align: right;\n",
       "    }\n",
       "</style>\n",
       "<table border=\"1\" class=\"dataframe\">\n",
       "  <thead>\n",
       "    <tr style=\"text-align: right;\">\n",
       "      <th></th>\n",
       "      <th>Share of switcher</th>\n",
       "      <th>Avg_prior_exp_u_new</th>\n",
       "      <th>Avg_realised_Utility_new</th>\n",
       "    </tr>\n",
       "  </thead>\n",
       "  <tbody>\n",
       "    <tr>\n",
       "      <th>Graduate 1</th>\n",
       "      <td>0.2862</td>\n",
       "      <td>2.883083</td>\n",
       "      <td>2.690847</td>\n",
       "    </tr>\n",
       "    <tr>\n",
       "      <th>Graduate 2</th>\n",
       "      <td>0.2582</td>\n",
       "      <td>2.909569</td>\n",
       "      <td>2.835947</td>\n",
       "    </tr>\n",
       "    <tr>\n",
       "      <th>Graduate 3</th>\n",
       "      <td>0.2347</td>\n",
       "      <td>2.968631</td>\n",
       "      <td>2.921782</td>\n",
       "    </tr>\n",
       "    <tr>\n",
       "      <th>Graduate 4</th>\n",
       "      <td>0.2245</td>\n",
       "      <td>3.001530</td>\n",
       "      <td>2.963109</td>\n",
       "    </tr>\n",
       "    <tr>\n",
       "      <th>Graduate 5</th>\n",
       "      <td>0.2167</td>\n",
       "      <td>3.000453</td>\n",
       "      <td>2.985352</td>\n",
       "    </tr>\n",
       "    <tr>\n",
       "      <th>Graduate 6</th>\n",
       "      <td>0.2140</td>\n",
       "      <td>2.990135</td>\n",
       "      <td>2.976489</td>\n",
       "    </tr>\n",
       "    <tr>\n",
       "      <th>Graduate 7</th>\n",
       "      <td>0.1996</td>\n",
       "      <td>3.039171</td>\n",
       "      <td>3.028452</td>\n",
       "    </tr>\n",
       "    <tr>\n",
       "      <th>Graduate 8</th>\n",
       "      <td>0.1981</td>\n",
       "      <td>3.041476</td>\n",
       "      <td>3.030178</td>\n",
       "    </tr>\n",
       "    <tr>\n",
       "      <th>Graduate 9</th>\n",
       "      <td>0.1890</td>\n",
       "      <td>3.042733</td>\n",
       "      <td>3.020284</td>\n",
       "    </tr>\n",
       "    <tr>\n",
       "      <th>Graduate 10</th>\n",
       "      <td>0.1934</td>\n",
       "      <td>3.064619</td>\n",
       "      <td>3.067706</td>\n",
       "    </tr>\n",
       "  </tbody>\n",
       "</table>\n",
       "</div>"
      ],
      "text/plain": [
       "             Share of switcher  Avg_prior_exp_u_new  Avg_realised_Utility_new\n",
       "Graduate 1              0.2862             2.883083                  2.690847\n",
       "Graduate 2              0.2582             2.909569                  2.835947\n",
       "Graduate 3              0.2347             2.968631                  2.921782\n",
       "Graduate 4              0.2245             3.001530                  2.963109\n",
       "Graduate 5              0.2167             3.000453                  2.985352\n",
       "Graduate 6              0.2140             2.990135                  2.976489\n",
       "Graduate 7              0.1996             3.039171                  3.028452\n",
       "Graduate 8              0.1981             3.041476                  3.030178\n",
       "Graduate 9              0.1890             3.042733                  3.020284\n",
       "Graduate 10             0.1934             3.064619                  3.067706"
      ]
     },
     "execution_count": 1598,
     "metadata": {},
     "output_type": "execute_result"
    }
   ],
   "source": [
    "share_switching = np.zeros((par.N))\n",
    "\n",
    "for i in range(par.N):\n",
    "    #average prior expected utility new \n",
    "    average_prior_expected_new = np.mean(prior_expected_utility_chosen, axis=1)\n",
    "    #average realised utility\n",
    "    average_realised_new = np.mean(realised_utility_new, axis=1)\n",
    "    #share of graduates switching career\n",
    "    share_switching[i] = np.sum(career_new[i,:] != career[i,:])/par.K\n",
    "\n",
    "#display share, average_prior_expected_utility and average_realised_utility in a table\n",
    "average_prior_expected_new = average_prior_expected_new.reshape(-1, 1)  # Reshape to column vector\n",
    "average_realised_utility_new = average_realised_new.reshape(-1, 1)  # Reshape to column vector\n",
    "share_switching = share_switching.reshape(-1, 1)  # Reshape to column vector\n",
    "\n",
    "# Concatenate all arrays horizontally\n",
    "table = np.hstack((share_switching, average_prior_expected_new, average_realised_utility_new))\n",
    "\n",
    "# Create a pandas DataFrame for better display\n",
    "column_names = [f'Share of switcher'] + [f'Avg_prior_exp_u_new'] + ['Avg_realised_Utility_new']\n",
    "df_new = pd.DataFrame(table, columns=column_names, index=[f'Graduate {i+1}' for i in range(par.N)])\n",
    "\n",
    "# Display the table\n",
    "df_new"
   ]
  },
  {
   "cell_type": "markdown",
   "metadata": {},
   "source": [
    "*Again we see more grauates staying in the first career, if they have many friends - due to the information level. Still there is a higher expected utility and realized utility on average, for graduate types, that have many friends*"
   ]
  },
  {
   "cell_type": "markdown",
   "metadata": {},
   "source": [
    "## 3. <a id='toc3_'></a>[Problem 3: Barycentric interpolation](#toc0_)"
   ]
  },
  {
   "cell_type": "markdown",
   "metadata": {},
   "source": [
    "**Problem:** We have a set of random points in the unit square,\n",
    "\n",
    "$$\n",
    "\\mathcal{X} = \\{(x_1,x_2)\\,|\\,x_1\\sim\\mathcal{U}(0,1),x_2\\sim\\mathcal{U}(0,1)\\}.\n",
    "$$\n",
    "\n",
    "For these points, we know the value of some function $f(x_1,x_2)$,\n",
    "\n",
    "$$\n",
    "\\mathcal{F} = \\{f(x_1,x_2) \\,|\\, (x_1,x_2) \\in \\mathcal{X}\\}.\n",
    "$$\n",
    "\n",
    "Now we want to approximate the value $f(y_1,y_2)$ for some  $y=(y_1,y_2)$, where $y_1\\sim\\mathcal{U}(0,1)$ and $y_2\\sim\\mathcal{U}(0,1)$.\n",
    "\n",
    "**Building block I**\n",
    "\n",
    "For an arbitrary triangle $ABC$ and a point $y$, define the so-called barycentric coordinates as:\n",
    "\n",
    "$$\n",
    "\\begin{align*}\n",
    "  r^{ABC}_1 &= \\frac{(B_2-C_2)(y_1-C_1) + (C_1-B_1)(y_2-C_2)}{(B_2-C_2)(A_1-C_1) + (C_1-B_1)(A_2-C_2)} \\\\\n",
    "  r^{ABC}_2 &= \\frac{(C_2-A_2)(y_1-C_1) + (A_1-C_1)(y_2-C_2)}{(B_2-C_2)(A_1-C_1) + (C_1-B_1)(A_2-C_2)} \\\\\n",
    "  r^{ABC}_3 &= 1 - r_1 - r_2.\n",
    "\\end{align*}\n",
    "$$\n",
    "\n",
    "If $r^{ABC}_1 \\in [0,1]$, $r^{ABC}_2 \\in [0,1]$, and $r^{ABC}_3 \\in [0,1]$, then the point is inside the triangle.\n",
    "\n",
    "We always have $y = r^{ABC}_1 A + r^{ABC}_2 B + r^{ABC}_3 C$.\n",
    "\n",
    "**Building block II**\n",
    "\n",
    "Define the following points:\n",
    "\n",
    "$$\n",
    "\\begin{align*}\n",
    "A&=\\arg\\min_{(x_{1},x_{2})\\in\\mathcal{X}}\\sqrt{\\left(x_{1}-y_{1}\\right)^{2}+\\left(x_{2}-y_{2}\\right)^{2}}\\text{ s.t. }x_{1}>y_{1}\\text{ and }x_{2}>y_{2}\\\\\n",
    "B&=\\arg\\min_{(x_{1},x_{2})\\in\\mathcal{X}}\\sqrt{\\left(x_{1}-y_{1}\\right)^{2}+\\left(x_{2}-y_{2}\\right)^{2}}\\text{ s.t. }x_{1}>y_{1}\\text{ and }x_{2}<y_{2}\\\\\n",
    "C&=\\arg\\min_{(x_{1},x_{2})\\in\\mathcal{X}}\\sqrt{\\left(x_{1}-y_{1}\\right)^{2}+\\left(x_{2}-y_{2}\\right)^{2}}\\text{ s.t. }x_{1}<y_{1}\\text{ and }x_{2}<y_{2}\\\\\n",
    "D&=\\arg\\min_{(x_{1},x_{2})\\in\\mathcal{X}}\\sqrt{\\left(x_{1}-y_{1}\\right)^{2}+\\left(x_{2}-y_{2}\\right)^{2}}\\text{ s.t. }x_{1}<y_{1}\\text{ and }x_{2}>y_{2}.\n",
    "\\end{align*}\n",
    "$$\n",
    "\n",
    "**Algorithm:**\n",
    "\n",
    "1. Compute $A$, $B$, $C$, and $D$. If not possible return `NaN`.\n",
    "1. If $y$ is inside the triangle $ABC$ return $r^{ABC}_1 f(A) + r^{ABC}_2 f(B) + r^{ABC}_3 f(C)$.\n",
    "1. If $y$ is inside the triangle $CDA$ return $r^{CDA}_1 f(C) + r^{CDA}_2 f(D) + r^{CDA}_3 f(A)$.\n",
    "1. Return `NaN`.\n",
    "\n"
   ]
  },
  {
   "cell_type": "markdown",
   "metadata": {},
   "source": [
    "**Sample:**"
   ]
  },
  {
   "cell_type": "code",
   "execution_count": 1580,
   "metadata": {},
   "outputs": [],
   "source": [
    "rng = np.random.default_rng(2024)\n",
    "\n",
    "X = rng.uniform(size=(50,2))\n",
    "y = rng.uniform(size=(2,))"
   ]
  },
  {
   "cell_type": "markdown",
   "metadata": {},
   "source": [
    "**Questions 1:** Find $A$, $B$, $C$ and $D$. Illustrate these together with $X$, $y$ and the triangles $ABC$ and $CDA$."
   ]
  },
  {
   "cell_type": "code",
   "execution_count": 1584,
   "metadata": {},
   "outputs": [],
   "source": [
    "# Function to calculate distance between p1 (x) and p2 (y) \n",
    "def distance(p1, p2):\n",
    "    return np.sqrt((p1[0] - p2[0]) ** 2 + (p1[1] - p2[1]) ** 2)\n",
    "\n",
    "# Function to find A, B, C, and D based on the minimum distance between x and y\n",
    "def find_points(X, y):\n",
    "    #Variables to store values. Distance is set to infinity to begin with. \n",
    "    A = B = C = D = None\n",
    "    min_dist_A = min_dist_B = min_dist_C = min_dist_D = float('inf')\n",
    "    \n",
    "    #For each point in X we calculate the distance to y. Update the respective point if it is closer if \n",
    "    #the current point is closer than the previously found point in that quadrant\n",
    "    for point in X:\n",
    "        dist = distance(point, y)\n",
    "        if point[0] > y[0] and point[1] > y[1] and dist < min_dist_A:\n",
    "            A, min_dist_A = point, dist\n",
    "        elif point[0] > y[0] and point[1] < y[1] and dist < min_dist_B:\n",
    "            B, min_dist_B = point, dist\n",
    "        elif point[0] < y[0] and point[1] < y[1] and dist < min_dist_C:\n",
    "            C, min_dist_C = point, dist\n",
    "        elif point[0] < y[0] and point[1] > y[1] and dist < min_dist_D:\n",
    "            D, min_dist_D = point, dist\n",
    "    \n",
    "    return A, B, C, D\n",
    "\n",
    "# Find points A, B, C, and D\n",
    "A, B, C, D = find_points(X, y)"
   ]
  },
  {
   "cell_type": "code",
   "execution_count": 1585,
   "metadata": {},
   "outputs": [
    {
     "data": {
      "image/png": "[encoded data removed]",
      "text/plain": [
       "<Figure size 640x480 with 1 Axes>"
      ]
     },
     "metadata": {},
     "output_type": "display_data"
    }
   ],
   "source": [
    "# Plotting the points in X and y \n",
    "plt.scatter(X[:, 0], X[:, 1], color='blue', label='Points in X')\n",
    "\n",
    "# Plotting the points A, B, C and D if these are replaced with not-None\n",
    "plt.scatter(y[0], y[1], color='red', label='Point y')\n",
    "if A is not None:\n",
    "    plt.scatter(A[0], A[1], color='green', label='Point A')\n",
    "if B is not None:\n",
    "    plt.scatter(B[0], B[1], color='orange', label='Point B')\n",
    "if C is not None:\n",
    "    plt.scatter(C[0], C[1], color='purple', label='Point C')\n",
    "if D is not None:\n",
    "    plt.scatter(D[0], D[1], color='brown', label='Point D')\n",
    "\n",
    "# Drawing triangles ABC and CDA if the points A, B, C, D are defined\n",
    "if A is not None and B is not None and C is not None:\n",
    "    plt.plot([A[0], B[0], C[0], A[0]], [A[1], B[1], C[1], A[1]], color='green')\n",
    "if C is not None and D is not None and A is not None:\n",
    "    plt.plot([C[0], D[0], A[0], C[0]], [C[1], D[1], A[1], C[1]], color='purple')\n",
    "\n",
    "plt.legend()\n",
    "plt.xlabel('x1')\n",
    "plt.ylabel('x2')\n",
    "plt.title('Points X ,y, A, B, C, D, and Triangles ABC and CDA')\n",
    "plt.show()"
   ]
  },
  {
   "cell_type": "markdown",
   "metadata": {},
   "source": [
    "**Question 2:** Compute the barycentric coordinates of the point $y$ with respect to the triangles $ABC$ and $CDA$. Which triangle is $y$ located inside?"
   ]
  },
  {
   "cell_type": "code",
   "execution_count": 1586,
   "metadata": {},
   "outputs": [
    {
     "name": "stdout",
     "output_type": "stream",
     "text": [
      "Barycentric coordinates of y with respect to triangle ABC is: 0.3356579674470462 0.021178593308093727 0.6431634392448602\n",
      "Point y is inside triangle ABC.\n",
      "Barycentric coordinates of y with respect to triangle CDA is: 0.07991074927782635 -0.04069057142875678 0.9607798221509304\n",
      "Point y is not inside triangle CDA.\n"
     ]
    }
   ],
   "source": [
    "# Function to compute the barycentric coordinates. \n",
    "#These are a function of the points (ABC or CDA) and the point y. \n",
    "def barycentric_coordinates(A, B, C, y):\n",
    "    r1 = ((B[1] - C[1]) * (y[0] - C[0]) + (C[0] - B[0]) * (y[1] - C[1])) / (B[1] - C[1]) * (A[0] - C[0]) + (C[0] - B[0]) * (A[1] - C[1])\n",
    "    r2 = ((C[1] - A[1]) * (y[0] - C[0]) + (A[0] - C[0]) * (y[1] - C[1])) / (B[1] - C[1]) * (A[0] - C[0]) + (C[0] - B[0]) * (A[1] - C[1])\n",
    "    r3 = 1 - r1 - r2\n",
    "    return r1, r2, r3\n",
    "\n",
    "# Function to check if point is inside triangle. That is if r1, r2 and r3 is in [0,1]. \n",
    "def in_triangle(r1, r2, r3):\n",
    "    return 0 <= r1 <= 1 and 0 <= r2 <= 1 and 0 <= r3 <= 1\n",
    "\n",
    "# Calling the points A, B, C, and D found in question 1. \n",
    "A, B, C, D = find_points(X, y)\n",
    "\n",
    "# Computing barycentric coordinates for triangle ABC (if the point are defined)\n",
    "if A is not None and B is not None and C is not None:\n",
    "    r1_ABC, r2_ABC, r3_ABC = barycentric_coordinates(A, B, C, y)\n",
    "    print(\"Barycentric coordinates of y with respect to triangle ABC is:\", r1_ABC, r2_ABC, r3_ABC)\n",
    "    if in_triangle(r1_ABC, r2_ABC, r3_ABC):\n",
    "        print(\"Point y is inside triangle ABC.\")\n",
    "    else:\n",
    "        print(\"Point y is not inside triangle ABC.\")\n",
    "else:\n",
    "    print(\"Cannot compute barycentric coordinates for triangle ABC.\")\n",
    "\n",
    "# Computing barycentric coordinates for triangle CDA (if the point are defined)\n",
    "if C is not None and D is not None and A is not None:\n",
    "    r1_CDA, r2_CDA, r3_CDA = barycentric_coordinates(C, D, A, y)\n",
    "    print(\"Barycentric coordinates of y with respect to triangle CDA is:\", r1_CDA, r2_CDA, r3_CDA)\n",
    "    if in_triangle(r1_CDA, r2_CDA, r3_CDA):\n",
    "        print(\"Point y is inside triangle CDA.\")\n",
    "    else:\n",
    "        print(\"Point y is not inside triangle CDA.\")\n",
    "else:\n",
    "    print(\"Cannot compute barycentric coordinates for triangle CDA.\")"
   ]
  },
  {
   "cell_type": "markdown",
   "metadata": {},
   "source": [
    "Now consider the function:\n",
    "$$\n",
    "f(x_1,x_2) = x_1 \\cdot x_2\n",
    "$$"
   ]
  },
  {
   "cell_type": "code",
   "execution_count": 1587,
   "metadata": {},
   "outputs": [],
   "source": [
    "f = lambda x: x[0]*x[1]\n",
    "F = np.array([f(x) for x in X])"
   ]
  },
  {
   "cell_type": "markdown",
   "metadata": {},
   "source": [
    "**Question 3:** Compute the approximation of $f(y)$ using the full algorithm. Compare with the true value."
   ]
  },
  {
   "cell_type": "markdown",
   "metadata": {},
   "source": [
    "*For the next two questions, we do **not** approximate the function $f(y)$ for y not in the respective triangles (assuming this is what is meant by the algorithm described above)*"
   ]
  },
  {
   "cell_type": "code",
   "execution_count": 1588,
   "metadata": {},
   "outputs": [
    {
     "name": "stdout",
     "output_type": "stream",
     "text": [
      "Point y is inside triangle ABC.\n",
      "Point y is not inside triangle CDA.\n",
      "Approximated value of f(y) in ABC: 0.05750281132283574\n",
      "Approximated value of f(y) in CDA: nan\n",
      "True value of f(y): 0.0789565216259594\n"
     ]
    }
   ],
   "source": [
    "# Compute barycentric coordinates for triangle ABC\n",
    "f_y_approx_ABC = np.nan  # Default to NaN if no valid triangle ABC is found\n",
    "f_y_approx_CDA = np.nan  # Default to NaN if no valid triangle CDA is found\n",
    "\n",
    "#If A, B, and C are not None we calculate the barycentric_coordinates. If y is in the trangle ABC, \n",
    "# the approximation is returned. \n",
    "if A is not None and B is not None and C is not None:\n",
    "    r1_ABC, r2_ABC, r3_ABC = barycentric_coordinates(A, B, C, y)\n",
    "    if in_triangle(r1_ABC, r2_ABC, r3_ABC):\n",
    "        f_y_approx_ABC = r1_ABC * f(A) + r2_ABC * f(B) + r3_ABC * f(C)\n",
    "        print(\"Point y is inside triangle ABC.\")\n",
    "    else: print(\"Point y is not inside triangle CDA.\")\n",
    "else:\n",
    "    print(\"Cannot compute barycentric coordinates for triangle ABC because one or more points are None.\")\n",
    "\n",
    "#If C, D, and A are not None we calculate the barycentric_coordinates. If y is in the trangle CDA, \n",
    "# the approximation is returned. \n",
    "if C is not None and D is not None and A is not None:\n",
    "    r1_CDA, r2_CDA, r3_CDA = barycentric_coordinates(C, D, A, y)\n",
    "    if in_triangle(r1_CDA, r2_CDA, r3_CDA):\n",
    "        f_y_approx_CDA = r1_CDA * f(C) + r2_CDA * f(D) + r3_CDA * f(A)\n",
    "        print(\"Point y is inside triangle CDA.\")\n",
    "    else: print(\"Point y is not inside triangle CDA.\")\n",
    "else:\n",
    "    print(\"Cannot compute barycentric coordinates for triangle CDA because one or more points are None.\")\n",
    "\n",
    "# Compute the true value of f(y)\n",
    "f_y_true = f(y)\n",
    "\n",
    "# Compare the approximated value with the true value\n",
    "print(\"Approximated value of f(y) in ABC:\", f_y_approx_ABC)\n",
    "print(\"Approximated value of f(y) in CDA:\", f_y_approx_CDA)\n",
    "print(\"True value of f(y):\", f_y_true)\n"
   ]
  },
  {
   "cell_type": "markdown",
   "metadata": {},
   "source": [
    "**Question 4:** Repeat question 3 for all points in the set $Y$."
   ]
  },
  {
   "cell_type": "code",
   "execution_count": 1591,
   "metadata": {},
   "outputs": [],
   "source": [
    "Y = [(0.2,0.2),(0.8,0.2),(0.8,0.8),(0.5,0.5)]"
   ]
  },
  {
   "cell_type": "code",
   "execution_count": 1592,
   "metadata": {},
   "outputs": [
    {
     "name": "stdout",
     "output_type": "stream",
     "text": [
      "For point (0.2, 0.2):\n",
      "Point y is not inside triangle ABC.\n",
      "Point y is not inside triangle CDA.\n",
      "Approximated value of f(y) in ABC: nan\n",
      "Approximated value of f(y) in CDA: nan\n",
      "True value of f(y): 0.04000000000000001\n",
      "\n",
      "For point (0.8, 0.2):\n",
      "Point y is inside triangle ABC.\n",
      "Point y is not inside triangle CDA.\n",
      "Approximated value of f(y) in ABC: 0.09419736792568295\n",
      "Approximated value of f(y) in CDA: nan\n",
      "True value of f(y): 0.16000000000000003\n",
      "\n",
      "For point (0.8, 0.8):\n",
      "Approximated value of f(y) in ABC: nan\n",
      "Approximated value of f(y) in CDA: nan\n",
      "True value of f(y): 0.6400000000000001\n",
      "\n",
      "For point (0.5, 0.5):\n",
      "Point y is not inside triangle ABC.\n",
      "Point y is not inside triangle CDA.\n",
      "Approximated value of f(y) in ABC: nan\n",
      "Approximated value of f(y) in CDA: nan\n",
      "True value of f(y): 0.25\n",
      "\n"
     ]
    }
   ],
   "source": [
    "# Loop through each point in Y and compute the approximation from question 3 \n",
    "for y in Y:\n",
    "    \n",
    "    print(f\"For point {y}:\")\n",
    "\n",
    "    A, B, C, D = find_points(X, y)\n",
    "    f_y_approx_ABC = np.nan  # Default to NaN if no valid triangle ABC is found\n",
    "    f_y_approx_CDA = np.nan  # Default to NaN if no valid triangle CDA is found\n",
    "    \n",
    "    if A is not None and B is not None and C is not None:\n",
    "        r1_ABC, r2_ABC, r3_ABC = barycentric_coordinates(A, B, C, y)\n",
    "        if in_triangle(r1_ABC, r2_ABC, r3_ABC):\n",
    "            f_y_approx_ABC = r1_ABC * f(A) + r2_ABC * f(B) + r3_ABC * f(C)\n",
    "            print(\"Point y is inside triangle ABC.\")\n",
    "        else: print(\"Point y is not inside triangle ABC.\")\n",
    "    \n",
    "    if C is not None and D is not None and A is not None:\n",
    "        r1_CDA, r2_CDA, r3_CDA = barycentric_coordinates(C, D, A, y)\n",
    "        if in_triangle(r1_CDA, r2_CDA, r3_CDA):\n",
    "            f_y_approx_CDA = r1_CDA * f(C) + r2_CDA * f(D) + r3_CDA * f(A)\n",
    "            print(\"Point y is inside triangle CDA.\")\n",
    "        else: print(\"Point y is not inside triangle CDA.\")\n",
    "    \n",
    "    f_y_true = f(y)\n",
    "    \n",
    "    print(\"Approximated value of f(y) in ABC:\", f_y_approx_ABC)\n",
    "    print(\"Approximated value of f(y) in CDA:\", f_y_approx_CDA)\n",
    "    print(\"True value of f(y):\", f_y_true)\n",
    "    print()"
   ]
  }
 ],
 "metadata": {
  "kernelspec": {
   "display_name": "base",
   "language": "python",
   "name": "python3"
  },
  "language_info": {
   "codemirror_mode": {
    "name": "ipython",
    "version": 3
   },
   "file_extension": ".py",
   "mimetype": "text/x-python",
   "name": "python",
   "nbconvert_exporter": "python",
   "pygments_lexer": "ipython3",
   "version": "3.11.5"
  }
 },
 "nbformat": 4,
 "nbformat_minor": 2
}
