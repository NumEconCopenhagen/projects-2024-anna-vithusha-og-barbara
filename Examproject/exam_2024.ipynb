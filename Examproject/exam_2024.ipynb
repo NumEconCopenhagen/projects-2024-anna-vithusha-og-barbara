{
 "cells": [
  {
   "cell_type": "markdown",
   "metadata": {},
   "source": [
    "**Table of contents**<a id='toc0_'></a>    \n",
    "- 1. [Problem 1: Production economy and CO2 taxation](#toc1_)    \n",
    "- 2. [Problem 2: Career choice model](#toc2_)    \n",
    "- 3. [Problem 3: Barycentric interpolation](#toc3_)    \n",
    "\n",
    "<!-- vscode-jupyter-toc-config\n",
    "\tnumbering=true\n",
    "\tanchor=true\n",
    "\tflat=false\n",
    "\tminLevel=2\n",
    "\tmaxLevel=6\n",
    "\t/vscode-jupyter-toc-config -->\n",
    "<!-- THIS CELL WILL BE REPLACED ON TOC UPDATE. DO NOT WRITE YOUR TEXT IN THIS CELL -->"
   ]
  },
  {
   "cell_type": "code",
   "execution_count": 1398,
   "metadata": {},
   "outputs": [],
   "source": [
    "# Write your code here\n",
    "import numpy as np\n",
    "import pandas as pd\n",
    "from types import SimpleNamespace\n",
    "from scipy import optimize"
   ]
  },
  {
   "cell_type": "markdown",
   "metadata": {},
   "source": [
    "## 1. <a id='toc1_'></a>[Problem 1: Production economy and CO2 taxation](#toc0_)"
   ]
  },
  {
   "cell_type": "markdown",
   "metadata": {},
   "source": [
    "Consider a production economy with two firms indexed by $j \\in \\{1,2\\}$. Each produce its own good. They solve\n",
    "\n",
    "$$\n",
    "\\begin{align*}\n",
    "\\max_{y_{j}}\\pi_{j}&=p_{j}y_{j}-w_{j}\\ell_{j}\\\\\\text{s.t.}\\;&y_{j}=A\\ell_{j}^{\\gamma}.\n",
    "\\end{align*}\n",
    "$$\n",
    "\n",
    "Optimal firm behavior is\n",
    "\n",
    "$$\n",
    "\\begin{align*}\n",
    "\\ell_{j}^{\\star}(w,p_{j})&=\\left(\\frac{p_{j}A\\gamma}{w}\\right)^{\\frac{1}{1-\\gamma}} \\\\\n",
    "y_{j}^{\\star}(w,p_{j})&=A\\left(\\ell_{j}^{\\star}(w,p_{j})\\right)^{\\gamma}\n",
    "\\end{align*}\n",
    "$$\n",
    "\n",
    "The implied profits are\n",
    "\n",
    "$$\n",
    "\\pi_{j}^*(w,p_{j})=\\frac{1-\\gamma}{\\gamma}w\\cdot\\left(\\frac{p_{j}A\\gamma}{w}\\right)^{\\frac{1}{1-\\gamma}}\n",
    "$$\n",
    "\n",
    "A single consumer supplies labor, and consumes the goods the firms produce. She also recieves the implied profits of the firm.<br>\n",
    "She solves:\n",
    "\n",
    "$$\n",
    "\\begin{align*}\n",
    "U(p_1,p_2,w,\\tau,T) = \\max_{c_{1},c_{2},\\ell} & \\log(c_{1}^{\\alpha}c_{2}^{1-\\alpha})-\\nu\\frac{\\ell^{1+\\epsilon}}{1+\\epsilon} \\\\\n",
    "\\text{s.t.}\\,\\,\\,&p_{1}c_{1}+(p_{2}+\\tau)c_{2}=w\\ell+T+\\pi_{1}^*(w,p_{1})+\\pi_{2}^*(w,p_{2})\n",
    "\\end{align*}\n",
    "$$\n",
    "\n",
    "where $\\tau$ is a tax and $T$ is lump-sum transfer. <br>\n",
    "For a given $\\ell$, it can be shown that optimal behavior is\n",
    "\n",
    "$$\n",
    "\\begin{align*}\n",
    "c_{1}(\\ell)&=\\alpha\\frac{w\\ell+T+\\pi_{1}^*(w,p_{1})+\\pi_{2}^*(w,p_{2})}{p_{1}} \\\\\n",
    "c_{2}(\\ell)&=(1-\\alpha)\\frac{w\\ell+T+\\pi_{1}^*(w,p_{1})+\\pi_{2}^*(w,p_{2})}{p_{2}+\\tau} \\\\\n",
    "\\end{align*}\n",
    "$$\n",
    "Such that optimal behavior is:\n",
    "$$\n",
    "\\ell^* = \\underset{\\ell}{\\arg\\max} \\log(\\left(c_{1}(\\ell)\\right)^{\\alpha}\\cdot \\left(c_{2}(\\ell)\\right)^{1-\\alpha})-\\nu\\frac{\\ell^{1+\\epsilon}}{1+\\epsilon} \n",
    "$$\n",
    "With optimal consumption:\n",
    "$$\n",
    "\\begin{align*}\n",
    "c_1^*=c_{1}(\\ell^*) \\\\\n",
    "c_2^*=c_{2}(\\ell^*)\\\\\n",
    "\\end{align*}\n",
    "$$\n",
    "\n",
    "\n",
    "The government chooses $\\tau$ and balances its budget so $T=\\tau c_2^*$. We initially set $\\tau,T=0$.\n",
    "\n",
    "Market clearing requires:\n",
    "\n",
    "1. Labor market: $\\ell^* = \\ell_1^* + \\ell_2^*$\n",
    "1. Good market 1: $c_1^* = y_1^*$\n",
    "1. Good market 2: $c_2^* = y_2^*$\n"
   ]
  },
  {
   "cell_type": "markdown",
   "metadata": {},
   "source": [
    "**Question 1:** Check market clearing conditions for $p_1$ in `linspace(0.1,2.0,10)` and $p_2$ in `linspace(0.1,2.0,10)`. We choose $w=1$ as numeraire."
   ]
  },
  {
   "cell_type": "code",
   "execution_count": 1399,
   "metadata": {},
   "outputs": [],
   "source": [
    "par = SimpleNamespace()\n",
    "\n",
    "# firms\n",
    "par.A = 1.0\n",
    "par.gamma = 0.5\n",
    "\n",
    "# households\n",
    "par.alpha = 0.3\n",
    "par.nu = 1.0\n",
    "par.epsilon = 2.0\n",
    "\n",
    "# government\n",
    "par.tau = 0.0\n",
    "par.T = 0.0\n",
    "\n",
    "# Question 3\n",
    "par.kappa = 0.1"
   ]
  },
  {
   "cell_type": "code",
   "execution_count": 1400,
   "metadata": {},
   "outputs": [],
   "source": [
    "# Define optimal profit function\n",
    "def profit(p):\n",
    "    pi = (1-par.gamma)/par.gamma * (p*par.A*par.gamma)**(1/(1-par.gamma))\n",
    "    return pi\n",
    "\n",
    "#define optimal labour demand\n",
    "def labour_dem(p):\n",
    "    l = (p*par.A*par.gamma)**(1/(1-par.gamma))\n",
    "    return l\n",
    "\n",
    "#define optimal output\n",
    "def output(p):\n",
    "    y = par.A*labour_dem(p)**par.gamma\n",
    "    return y\n",
    "\n",
    "#define labour suply\n",
    "def opt_labour_sup(p1, p2):\n",
    "    def labour_sup(l_s):\n",
    "        c1 = par.alpha*(l_s+par.T+profit(p1)+profit(p2))/p1\n",
    "        c2 = (1-par.alpha)*(l_s+par.T+profit(p1)+profit(p2))/(p2+par.tau)\n",
    "        l_s = np.log(c1**par.alpha * c2**(1-par.alpha))-(par.nu*l_s**(1+par.epsilon))/(1+par.epsilon)\n",
    "        return - l_s\n",
    "\n",
    "    results = optimize.minimize_scalar(labour_sup,method='bounded',bounds=(0,1000)) \n",
    "    return results.x"
   ]
  },
  {
   "cell_type": "code",
   "execution_count": 1401,
   "metadata": {},
   "outputs": [
    {
     "name": "stdout",
     "output_type": "stream",
     "text": [
      "Labour market clearing condition is not met\n",
      "Good 1 market clearing condition is not met\n",
      "Good 2 market clearing condition is not met\n"
     ]
    }
   ],
   "source": [
    "# check market clearing conditions\n",
    "labour_market_clearing = []\n",
    "good_1_market_clearing = []\n",
    "good_2_market_clearing = []\n",
    "\n",
    "for p1 in np.linspace(0.1,2.0,10):\n",
    "    for p2 in np.linspace(0.1,2.0,10):\n",
    "        l_1 = labour_dem(p1)\n",
    "        l_2 = labour_dem(p2)\n",
    "        l_s = opt_labour_sup(p1, p2)\n",
    "        y_1 = output(p1)\n",
    "        y_2 = output(p2)\n",
    "        c1 = par.alpha*(l_s+par.T+profit(p1)+profit(p2))/p1\n",
    "        c2 = (1-par.alpha)*(l_s+par.T+profit(p1)+profit(p2))/(p2+par.tau)\n",
    "        #market clearing conditions\n",
    "        if np.isclose(l_1+l_2, l_s):\n",
    "            labour_market_clearing.append(True)\n",
    "        else:\n",
    "            labour_market_clearing.append(False)\n",
    "        if np.isclose(y_1, c1):\n",
    "            good_1_market_clearing.append(True)\n",
    "        else:\n",
    "            good_1_market_clearing.append(False)\n",
    "        if np.isclose(y_2, c2):\n",
    "            good_2_market_clearing.append(True)\n",
    "        else:\n",
    "            good_2_market_clearing.append(False)\n",
    "\n",
    "#print results if market clearing conditions are met\n",
    "if all(labour_market_clearing):\n",
    "    print('Labour market clearing condition is met')\n",
    "else:\n",
    "    print('Labour market clearing condition is not met')\n",
    "\n",
    "if all(good_1_market_clearing):\n",
    "    print('Good 1 market clearing condition is met')\n",
    "else:\n",
    "    print('Good 1 market clearing condition is not met')\n",
    "\n",
    "if all(good_2_market_clearing):\n",
    "    print('Good 2 market clearing condition is met')\n",
    "else:\n",
    "    print('Good 2 market clearing condition is not met')"
   ]
  },
  {
   "cell_type": "markdown",
   "metadata": {},
   "source": [
    "**Question 2:** Find the equilibrium prices $p_1$ and $p_2$.<br>\n",
    "*Hint: you can use Walras' law to only check 2 of the market clearings*"
   ]
  },
  {
   "cell_type": "code",
   "execution_count": 1402,
   "metadata": {},
   "outputs": [
    {
     "name": "stdout",
     "output_type": "stream",
     "text": [
      "Equilibrium prices are p1 = 0.97593 and p2 = 1.49076\n"
     ]
    }
   ],
   "source": [
    "#def market clearing conditions\n",
    "def market_clearing(p):\n",
    "    l_1 = labour_dem(p[0])\n",
    "    l_2 = labour_dem(p[1])\n",
    "    l_s = opt_labour_sup(p[0], p[1])\n",
    "    y_1 = output(p[0])\n",
    "    y_2 = output(p[1])\n",
    "    c1 = par.alpha*(l_s+par.T+profit(p[0])+profit(p[1]))/p[0]\n",
    "    c2 = (1-par.alpha)*(l_s+par.T+profit(p[0])+profit(p[1]))/(p[1]+par.tau)\n",
    "    labour_market_clearing = l_1+l_2-l_s\n",
    "    good_market_1_clearing = y_1-c1\n",
    "    return labour_market_clearing, good_market_1_clearing\n",
    "\n",
    "#Using Walras' law we check if the labour market and good 1 market clears and thereby find the equlibrium prices. \n",
    "eq_results=optimize.root(market_clearing,[1.0,1.0])\n",
    "equilibrium_prices=eq_results.x\n",
    "\n",
    "print(f'Equilibrium prices are p1 = {equilibrium_prices[0]:.5f} and p2 = {equilibrium_prices[1]:.5f}')"
   ]
  },
  {
   "cell_type": "markdown",
   "metadata": {},
   "source": [
    "Assume the government care about the social welfare function:\n",
    "\n",
    "$$\n",
    "SWF = U - \\kappa y_2^*\n",
    "$$"
   ]
  },
  {
   "cell_type": "markdown",
   "metadata": {},
   "source": [
    "Here $\\kappa$ measures the social cost of carbon emitted by the production of $y_2$ in equilibrium."
   ]
  },
  {
   "cell_type": "markdown",
   "metadata": {},
   "source": [
    "**Question 3:** What values of $\\tau$ and (implied) $T$ should the government choose to maximize $SWF$?"
   ]
  },
  {
   "cell_type": "code",
   "execution_count": 1403,
   "metadata": {},
   "outputs": [],
   "source": [
    "# def market_clearing_tau(prices_and_tau):\n",
    "\n",
    "#     p1, p2, tau = prices_and_tau\n",
    "\n",
    "#     l_1 = labour_dem(p1)\n",
    "#     l_2 = labour_dem(p2)\n",
    "#     l_s = opt_labour_sup(p1, p2)\n",
    "#     y_1 = output(p1)\n",
    "#     y_2 = output(p2)\n",
    "#     c1 = par.alpha*(l_s+tau*y_2+profit(p1)+profit(p2))/p1\n",
    "#     c2 = (1-par.alpha)*(l_s+tau*y_2+profit(p1)+profit(p2))/(p2+tau)\n",
    "#     labour_market_clearing = l_1+l_2-l_s\n",
    "#     good_market_1_clearing = y_1-c1\n",
    "#     good_market_2_clearing = y_2-c2\n",
    "#     return labour_market_clearing, good_market_1_clearing, good_market_2_clearing\n",
    "\n",
    "# result_tau=optimize.root(market_clearing_tau,[0.98,1.49,0.1])\n",
    "# #show result with 3 decimals\n",
    "# print(f'Equilibrium prices are p1 = {result_tau.x[0]:.7f}, p2 = {result_tau.x[1]:.7f} and tau = {result_tau.x[2]:.7f}')\n",
    "# result_tau.x"
   ]
  },
  {
   "cell_type": "code",
   "execution_count": 1404,
   "metadata": {},
   "outputs": [
    {
     "name": "stdout",
     "output_type": "stream",
     "text": [
      "Equilibrium prices are p1 = 0.9800000, p2 = 1.4900000 and tau = 0.2000000\n",
      "Tau that maximise SWF is 0.200 and T = 0.149\n"
     ]
    },
    {
     "name": "stderr",
     "output_type": "stream",
     "text": [
      "c:\\Users\\PCUser\\anaconda3\\Lib\\site-packages\\scipy\\optimize\\_numdiff.py:576: RuntimeWarning: invalid value encountered in subtract\n",
      "  df = fun(x) - f0\n"
     ]
    }
   ],
   "source": [
    "def social_welfare(prices_and_tau):\n",
    "\n",
    "    p1, p2, tau = prices_and_tau\n",
    "    \n",
    "    l_1 = labour_dem(p1)\n",
    "    l_2 = labour_dem(p2)\n",
    "    l_s = opt_labour_sup(p1, p2)\n",
    "    y_1 = output(p1)\n",
    "    y_2 = output(p2)\n",
    "    c1 = par.alpha*(l_s+tau*y_2+profit(p1)+profit(p2))/p1\n",
    "    c2 = (1-par.alpha)*(l_s+tau*y_2+profit(p1)+profit(p2))/(p2+tau)\n",
    "\n",
    "    SWF = np.log(c1 ** par.alpha * c2 ** (1 - par.alpha)) - (par.nu * l_s ** (1 + par.epsilon)) / (1 + par.epsilon) - par.kappa * y_2\n",
    "\n",
    "    if np.isclose(l_1 + l_2, l_s) and np.isclose(y_1, c1):\n",
    "        return -SWF  # maximize SWF by minimizing -SWF\n",
    "    else:\n",
    "        return np.inf\n",
    "\n",
    "tau_0 = [0.98,1.49,0.2]\n",
    "\n",
    "tol=1e-5\n",
    "bounds = ((tol,5.0), (tol,5.0), (0.0,1.0))\n",
    "results_sfw = optimize.minimize(social_welfare,tau_0,method='SLSQP', bounds=bounds)\n",
    "tau_opt = results_sfw.x\n",
    "tau_opt\n",
    "#show new prices and optimal tau\n",
    "print(f'Equilibrium prices are p1 = {tau_opt[0]:.7f}, p2 = {tau_opt[1]:.7f} and tau = {tau_opt[2]:.7f}')\n",
    "\n",
    "y_2_opt = output(tau_opt[1])\n",
    "T = tau_opt[2]*y_2_opt   \n",
    "\n",
    "#show optimal tau and thereby T\n",
    "print(f'Tau that maximise SWF is {tau_opt[2]:.3f} and T = {T:.3f}')"
   ]
  },
  {
   "cell_type": "markdown",
   "metadata": {},
   "source": [
    "## 2. <a id='toc2_'></a>[Problem 2: Career choice model](#toc0_)"
   ]
  },
  {
   "cell_type": "markdown",
   "metadata": {},
   "source": [
    "Consider a graduate $i$ making a choice between entering $J$ different career tracks. <br>\n",
    "Entering career $j$ yields utility $u^k_{ij}$. This value is unknown to the graduate ex ante, but will ex post be: <br>\n",
    "$$\n",
    "    u_{i,j}^k = v_{j} + \\epsilon_{i,j}^k\n",
    "$$\n",
    "\n",
    "They know that $\\epsilon^k_{i,j}\\sim \\mathcal{N}(0,\\sigma^2)$, but they do not observe $\\epsilon^k_{i,j}$ before making their career choice. <br>"
   ]
  },
  {
   "cell_type": "markdown",
   "metadata": {},
   "source": [
    "Consider the concrete case of $J=3$ with:\n",
    "$$\n",
    "\\begin{align*}\n",
    "    v_{1} &= 1 \\\\\n",
    "    v_{2} &= 2 \\\\\n",
    "    v_{3} &= 3\n",
    "\\end{align*}\n",
    "$$"
   ]
  },
  {
   "cell_type": "markdown",
   "metadata": {},
   "source": [
    "If the graduates know the values of $v_j$ and the distribution of $\\epsilon_{i,j}^k$, they can calculate the expected utility of each career track using simulation: <br>\n",
    "$$\n",
    "    \\mathbb{E}\\left[ u^k_{i,j}\\vert v_j \\right] \\approx v_j + \\frac{1}{K}\\sum_{k=1}^K \\epsilon_{i,j}^k\n",
    "$$"
   ]
  },
  {
   "cell_type": "code",
   "execution_count": 1405,
   "metadata": {},
   "outputs": [],
   "source": [
    "par = SimpleNamespace()\n",
    "par.J = 3\n",
    "par.N = 10\n",
    "par.K = 5 #10000\n",
    "\n",
    "par.F = np.arange(1,par.N+1)\n",
    "par.sigma = 2\n",
    "\n",
    "par.v = np.array([1,2,3])\n",
    "par.c = 1"
   ]
  },
  {
   "cell_type": "markdown",
   "metadata": {},
   "source": [
    "**Question 1:** Simulate and calculate expected utility and the average realised utility for $K=10000$ draws, for each career choice $j$.\n"
   ]
  },
  {
   "cell_type": "code",
   "execution_count": 1406,
   "metadata": {},
   "outputs": [
    {
     "data": {
      "text/plain": [
       "array([1.49121627, 2.44949248, 3.76261807])"
      ]
     },
     "metadata": {},
     "output_type": "display_data"
    },
    {
     "data": {
      "text/plain": [
       "array([1.49121627, 2.44949248, 3.76261807])"
      ]
     },
     "metadata": {},
     "output_type": "display_data"
    }
   ],
   "source": [
    "#set seed\n",
    "np.random.seed(17)\n",
    "\n",
    "#simulate epsilon\n",
    "epsilon = np.random.normal(0,par.sigma,(par.J,par.K))\n",
    "\n",
    "#expected utility\n",
    "expected_utility = np.zeros(par.J)\n",
    "for j in range(par.J):\n",
    "    expected_utility[j] = par.v[j] + 1/par.K * np.sum(epsilon[j,:])\n",
    "\n",
    "#realised utility\n",
    "realised_utility = np.zeros((par.J, par.K))\n",
    "for j in range(par.J):\n",
    "    for k in range(par.K):\n",
    "        realised_utility[j,k] = par.v[j] + epsilon[j,k]\n",
    "\n",
    "average_realised_utility = np.mean(realised_utility, axis=1)\n",
    "display(expected_utility)\n",
    "display(average_realised_utility)\n"
   ]
  },
  {
   "cell_type": "markdown",
   "metadata": {},
   "source": [
    "Now consider a new scenario: Imagine that the graduate does not know $v_j$. The *only* prior information they have on the value of each job, comes from their $F_{i}$ friends that work in each career $j$. After talking with them, they know the average utility of their friends (which includes their friends' noise term), giving them the prior expecation: <br>\n",
    "$$\n",
    "\\tilde{u}^k_{i,j}\\left( F_{i}\\right) = \\frac{1}{F_{i}}\\sum_{f=1}^{F_{i}} \\left(v_{j} + \\epsilon^k_{f,j}\\right), \\; \\epsilon^k_{f,j}\\sim \\mathcal{N}(0,\\sigma^2)\n",
    "$$\n",
    "For ease of notation consider that each graduate have $F_{i}=i$ friends in each career. <br>"
   ]
  },
  {
   "cell_type": "markdown",
   "metadata": {},
   "source": [
    "For $K$ times do the following: <br>\n",
    "1. For each person $i$ draw $J\\cdot F_i$ values of $\\epsilon_{f,j}^{k}$, and calculate the prior expected utility of each career track, $\\tilde{u}^k_{i,j}\\left( F_{i}\\right)$. <br>\n",
    "Also draw their own $J$ noise terms, $\\epsilon_{i,j}^k$\n",
    "1. Each person $i$ chooses the career track with the highest expected utility: $$j_i^{k*}= \\arg\\max_{j\\in{1,2\\dots,J}}\\left\\{ \\tilde{u}^k_{i,j}\\left( F_{i}\\right)\\right\\} $$\n",
    "1. Store the chosen careers: $j_i^{k*}$, the prior expectation of the value of their chosen career: $\\tilde{u}^k_{i,j=j_i^{k*}}\\left( F_{i}\\right)$, and the realized value of their chosen career track: $u^k_{i,j=j_i^{k*}}=v_{j=j_i^{k*}}+\\epsilon_{i,j=j_i^{k*}}^k$."
   ]
  },
  {
   "cell_type": "markdown",
   "metadata": {},
   "source": [
    "Chosen values will be: <br>\n",
    "$i\\in\\left\\{1,2\\dots,N\\right\\}, N=10$ <br>\n",
    "$F_i = i$<br>\n",
    "So there are 10 graduates. The first has 1 friend in each career, the second has 2 friends, ... the tenth has 10 friends."
   ]
  },
  {
   "cell_type": "markdown",
   "metadata": {},
   "source": [
    "**Question 2:** Simulate and visualize: For each type of graduate, $i$, the share of graduates choosing each career, the average subjective expected utility of the graduates, and the average ex post realized utility given their choice. <br>\n",
    "That is, calculate and visualize: <br>\n",
    "$$\n",
    "\\begin{align*}\n",
    "    \\frac{1}{K} \\sum_{k=1}^{K} \\mathbb{I}\\left\\{ j=j_i^{k*} \\right\\}  \\;\\forall j\\in\\left\\{1,2,\\dots,J\\right\\}\n",
    "\\end{align*}\n",
    "$$\n",
    "$$\n",
    "\\begin{align*}\n",
    "    \\frac{1}{K} \\sum_{k=1}^{K} \\tilde{u}^k_{ij=j_i^{k*}}\\left( F_{i}\\right)\n",
    "\\end{align*}\n",
    "$$\n",
    "And \n",
    "$$\n",
    "\\begin{align*}\n",
    "    \\frac{1}{K} \\sum_{k=1}^{K} u^k_{ij=j_i^{k*}} \n",
    "\\end{align*}\n",
    "$$\n",
    "For each graduate $i$."
   ]
  },
  {
   "cell_type": "code",
   "execution_count": 1419,
   "metadata": {},
   "outputs": [],
   "source": [
    "#set seed\n",
    "np.random.seed(17)\n",
    "\n",
    "# initialise arrays\n",
    "prior_expected_utility = np.zeros((par.N, par.J, par.K))\n",
    "realised_utility = np.zeros((par.N, par.K))\n",
    "realised_utility_all = np.zeros((par.N, par.J, par.K))\n",
    "epsilon_own = np.random.normal(0, par.sigma, (par.N, par.J, par.K))\n",
    "\n",
    "for k in range(par.K):\n",
    "    for i in range(par.N):\n",
    "        epsilon_friends = np.random.normal(0, par.sigma, (par.F[i],par.J))\n",
    "\n",
    "        for j in range(par.J):\n",
    "            prior_expected_utility[i,j,k] = np.mean(par.v[j] + epsilon_friends[:,j])\n",
    "            #find best career choice\n",
    "            career = np.argmax(prior_expected_utility, axis=1)\n",
    "\n",
    "            # Calculate realised utility for all careers\n",
    "            realised_utility_all[i, j, k] = par.v[j] + epsilon_own[i,j,k] \n",
    "\n",
    "        #realised utility given career choice\n",
    "        realised_utility[i,k] = par.v[career[i,k]] + epsilon_own[i,career[i,k],k]\n"
   ]
  },
  {
   "cell_type": "code",
   "execution_count": 1408,
   "metadata": {},
   "outputs": [
    {
     "data": {
      "text/html": [
       "<div>\n",
       "<style scoped>\n",
       "    .dataframe tbody tr th:only-of-type {\n",
       "        vertical-align: middle;\n",
       "    }\n",
       "\n",
       "    .dataframe tbody tr th {\n",
       "        vertical-align: top;\n",
       "    }\n",
       "\n",
       "    .dataframe thead th {\n",
       "        text-align: right;\n",
       "    }\n",
       "</style>\n",
       "<table border=\"1\" class=\"dataframe\">\n",
       "  <thead>\n",
       "    <tr style=\"text-align: right;\">\n",
       "      <th></th>\n",
       "      <th>Share_1</th>\n",
       "      <th>Share_2</th>\n",
       "      <th>Share_3</th>\n",
       "      <th>Avg_prior_exp_u_1</th>\n",
       "      <th>Avg_prior_exp_u_2</th>\n",
       "      <th>Avg_prior_exp_u_3</th>\n",
       "      <th>Avg_realised_Utility</th>\n",
       "    </tr>\n",
       "  </thead>\n",
       "  <tbody>\n",
       "    <tr>\n",
       "      <th>0</th>\n",
       "      <td>0.0</td>\n",
       "      <td>0.0</td>\n",
       "      <td>1.0</td>\n",
       "      <td>0.615827</td>\n",
       "      <td>1.872914</td>\n",
       "      <td>4.231004</td>\n",
       "      <td>3.762618</td>\n",
       "    </tr>\n",
       "    <tr>\n",
       "      <th>1</th>\n",
       "      <td>0.2</td>\n",
       "      <td>0.0</td>\n",
       "      <td>0.8</td>\n",
       "      <td>2.026039</td>\n",
       "      <td>1.190344</td>\n",
       "      <td>3.295924</td>\n",
       "      <td>1.829379</td>\n",
       "    </tr>\n",
       "    <tr>\n",
       "      <th>2</th>\n",
       "      <td>0.0</td>\n",
       "      <td>0.2</td>\n",
       "      <td>0.8</td>\n",
       "      <td>1.426574</td>\n",
       "      <td>1.682311</td>\n",
       "      <td>2.965637</td>\n",
       "      <td>3.807409</td>\n",
       "    </tr>\n",
       "    <tr>\n",
       "      <th>3</th>\n",
       "      <td>0.2</td>\n",
       "      <td>0.0</td>\n",
       "      <td>0.8</td>\n",
       "      <td>1.388951</td>\n",
       "      <td>1.464548</td>\n",
       "      <td>2.377636</td>\n",
       "      <td>2.470606</td>\n",
       "    </tr>\n",
       "    <tr>\n",
       "      <th>4</th>\n",
       "      <td>0.0</td>\n",
       "      <td>0.2</td>\n",
       "      <td>0.8</td>\n",
       "      <td>0.877744</td>\n",
       "      <td>2.136823</td>\n",
       "      <td>2.964380</td>\n",
       "      <td>3.653471</td>\n",
       "    </tr>\n",
       "    <tr>\n",
       "      <th>5</th>\n",
       "      <td>0.0</td>\n",
       "      <td>0.0</td>\n",
       "      <td>1.0</td>\n",
       "      <td>0.314699</td>\n",
       "      <td>2.088398</td>\n",
       "      <td>3.727669</td>\n",
       "      <td>2.733080</td>\n",
       "    </tr>\n",
       "    <tr>\n",
       "      <th>6</th>\n",
       "      <td>0.0</td>\n",
       "      <td>0.0</td>\n",
       "      <td>1.0</td>\n",
       "      <td>1.293586</td>\n",
       "      <td>1.782413</td>\n",
       "      <td>3.042902</td>\n",
       "      <td>4.326231</td>\n",
       "    </tr>\n",
       "    <tr>\n",
       "      <th>7</th>\n",
       "      <td>0.0</td>\n",
       "      <td>0.2</td>\n",
       "      <td>0.8</td>\n",
       "      <td>1.020742</td>\n",
       "      <td>2.347747</td>\n",
       "      <td>2.952102</td>\n",
       "      <td>3.194287</td>\n",
       "    </tr>\n",
       "    <tr>\n",
       "      <th>8</th>\n",
       "      <td>0.0</td>\n",
       "      <td>0.2</td>\n",
       "      <td>0.8</td>\n",
       "      <td>1.296441</td>\n",
       "      <td>1.905450</td>\n",
       "      <td>2.913236</td>\n",
       "      <td>2.435436</td>\n",
       "    </tr>\n",
       "    <tr>\n",
       "      <th>9</th>\n",
       "      <td>0.0</td>\n",
       "      <td>0.0</td>\n",
       "      <td>1.0</td>\n",
       "      <td>1.235824</td>\n",
       "      <td>1.410899</td>\n",
       "      <td>3.233569</td>\n",
       "      <td>3.043047</td>\n",
       "    </tr>\n",
       "  </tbody>\n",
       "</table>\n",
       "</div>"
      ],
      "text/plain": [
       "   Share_1  Share_2  Share_3  Avg_prior_exp_u_1  Avg_prior_exp_u_2  \\\n",
       "0      0.0      0.0      1.0           0.615827           1.872914   \n",
       "1      0.2      0.0      0.8           2.026039           1.190344   \n",
       "2      0.0      0.2      0.8           1.426574           1.682311   \n",
       "3      0.2      0.0      0.8           1.388951           1.464548   \n",
       "4      0.0      0.2      0.8           0.877744           2.136823   \n",
       "5      0.0      0.0      1.0           0.314699           2.088398   \n",
       "6      0.0      0.0      1.0           1.293586           1.782413   \n",
       "7      0.0      0.2      0.8           1.020742           2.347747   \n",
       "8      0.0      0.2      0.8           1.296441           1.905450   \n",
       "9      0.0      0.0      1.0           1.235824           1.410899   \n",
       "\n",
       "   Avg_prior_exp_u_3  Avg_realised_Utility  \n",
       "0           4.231004              3.762618  \n",
       "1           3.295924              1.829379  \n",
       "2           2.965637              3.807409  \n",
       "3           2.377636              2.470606  \n",
       "4           2.964380              3.653471  \n",
       "5           3.727669              2.733080  \n",
       "6           3.042902              4.326231  \n",
       "7           2.952102              3.194287  \n",
       "8           2.913236              2.435436  \n",
       "9           3.233569              3.043047  "
      ]
     },
     "execution_count": 1408,
     "metadata": {},
     "output_type": "execute_result"
    }
   ],
   "source": [
    "#share of graduates choosing career j\n",
    "share = np.zeros((par.J, par.N))\n",
    "for i in range(par.N):\n",
    "    for j in range(par.J):\n",
    "        share[j,i] = np.sum(career[i,:]==j)/par.K\n",
    "    #average prior expected utility\n",
    "    average_prior_expected_utility = np.mean(prior_expected_utility, axis=2)\n",
    "    #average realised utility\n",
    "    average_realised_utility = np.mean(realised_utility, axis=1)\n",
    "\n",
    "#display share, average_prior_expected_utility and average_realised_utility in a table\n",
    "share = share.T  # Transpose to shape (N, J)\n",
    "average_prior_expected_utility = average_prior_expected_utility[:, :3]  # Assuming first 3 columns\n",
    "average_realised_utility = average_realised_utility.reshape(-1, 1)  # Reshape to column vector\n",
    "\n",
    "# Concatenate all arrays horizontally\n",
    "table = np.hstack((share, average_prior_expected_utility, average_realised_utility))\n",
    "\n",
    "# Create a pandas DataFrame for better display\n",
    "column_names = [f'Share_{j+1}' for j in range(par.J)] + [f'Avg_prior_exp_u_{j+1}' for j in range(3)] + ['Avg_realised_Utility']\n",
    "df = pd.DataFrame(table, columns=column_names)\n",
    "\n",
    "# Display the table\n",
    "df"
   ]
  },
  {
   "cell_type": "markdown",
   "metadata": {},
   "source": [
    "After a year of working in their career, the graduates learn $u^k_{ij}$ for their chosen job $j_i^{k*}$ perfectly. <br>\n",
    "The can switch to one of the two remaining careers, for which they have the same prior as before, but it will now include a switching cost of $c$ which is known.\n",
    "Their new priors can be written as: \n",
    "$$\n",
    "\\tilde{u}^{k,2}_{ij}\\left( F_{i}\\right) = \\begin{cases}\n",
    "            \\tilde{u}^k_{ij}\\left( F_{i}\\right)-c & \\text{if } j \\neq j_i^{k*} \\\\\n",
    "            u_{ij=j_i^{k*}} & \\text{if } j = j_i^{k*}\n",
    "        \\end{cases}\n",
    "$$"
   ]
  },
  {
   "cell_type": "markdown",
   "metadata": {},
   "source": [
    "We will set $c=1$."
   ]
  },
  {
   "cell_type": "markdown",
   "metadata": {},
   "source": [
    "Their realized utility will be: <br>\n",
    "$$\n",
    "u^{k,2}_{ij}= \\begin{cases}\n",
    "            u_{ij}^k -c & \\text{if } j \\neq j_i^{k*} \\\\\n",
    "            u_{ij=j_i^{k*}} & \\text{if } j = j_i^{k*}\n",
    "        \\end{cases}\n",
    "$$"
   ]
  },
  {
   "cell_type": "markdown",
   "metadata": {},
   "source": [
    "**Question 3:** Following the same approach as in question 2, find the new optimal career choice for each $i$, $k$. Then for each $i$, calculate the average subjective expected utility from their new optimal career choice, and the ex post realized utility of that career. Also, for each $i$, calculate the share of graduates that chooses to switch careers, conditional on which career they chose in the first year. <br>"
   ]
  },
  {
   "cell_type": "code",
   "execution_count": 1434,
   "metadata": {},
   "outputs": [
    {
     "data": {
      "text/plain": [
       "array([[ 0.29232256, -0.54149729, -1.37949232,  0.11614292, -0.40834183],\n",
       "       [ 0.81873593, -1.31643798,  1.6013316 ,  0.48622197,  2.77471677],\n",
       "       [ 7.342514  ,  5.3046205 , -0.63762468,  2.72390132,  4.07967923]])"
      ]
     },
     "metadata": {},
     "output_type": "display_data"
    },
    {
     "data": {
      "text/plain": [
       "array([7.342514  , 5.3046205 , 1.6013316 , 2.72390132, 4.07967923])"
      ]
     },
     "metadata": {},
     "output_type": "display_data"
    },
    {
     "data": {
      "text/plain": [
       "(10, 5)"
      ]
     },
     "execution_count": 1434,
     "metadata": {},
     "output_type": "execute_result"
    }
   ],
   "source": [
    "# Set seed\n",
    "np.random.seed(17)\n",
    "\n",
    "# Initialize arrays\n",
    "prior_expected_utility_new = np.zeros((par.N, par.J, par.K))\n",
    "prior_expected_utility_chosen = np.zeros((par.N, par.K))\n",
    "realised_utility_new = np.zeros((par.N, par.K))\n",
    "updated_careers = np.zeros((par.N, par.K), dtype=int)  # To track updated careers after comparison\n",
    "comparison_results = np.zeros((par.N, par.K), dtype=bool) # Initialize comparison results\n",
    "\n",
    "for k in range(par.K):\n",
    "    for i in range(par.N):\n",
    "        chosen_career = career[i, k]\n",
    "        \n",
    "        # Modify prior_expected_utility for non-chosen careers\n",
    "        for j in range(par.J):\n",
    "            if j != chosen_career:\n",
    "                prior_expected_utility_new[i,j,k] = prior_expected_utility[i,j,k] - 1\n",
    "            else:\n",
    "                prior_expected_utility_new[i,j,k] = realised_utility[i,k]\n",
    "\n",
    "            #find best career choice given new prior expected utility\n",
    "            career_new = np.argmax(prior_expected_utility_new, axis=1)\n",
    "\n",
    "\n",
    "        #realised utility given new career choice (before cost of switching)\n",
    "        realised_utility_new[i,k] = par.v[career_new[i,k]] + epsilon_own[i,career_new[i,k],k]\n",
    "\n",
    "        #Prior expected utility for chosen career\n",
    "        prior_expected_utility_chosen[i,k] = prior_expected_utility_new[i,career_new[i,k],k] \n",
    "\n",
    "        # Adjust realised utility after cost of switching\n",
    "        if realised_utility_new[i,k] != realised_utility[i,k]:\n",
    "            realised_utility_new[i,k] = realised_utility_new[i,k] - 1\n",
    "        else:\n",
    "            realised_utility_new[i,k] = realised_utility_new[i,k]"
   ]
  },
  {
   "cell_type": "code",
   "execution_count": 1440,
   "metadata": {},
   "outputs": [
    {
     "data": {
      "text/html": [
       "<div>\n",
       "<style scoped>\n",
       "    .dataframe tbody tr th:only-of-type {\n",
       "        vertical-align: middle;\n",
       "    }\n",
       "\n",
       "    .dataframe tbody tr th {\n",
       "        vertical-align: top;\n",
       "    }\n",
       "\n",
       "    .dataframe thead th {\n",
       "        text-align: right;\n",
       "    }\n",
       "</style>\n",
       "<table border=\"1\" class=\"dataframe\">\n",
       "  <thead>\n",
       "    <tr style=\"text-align: right;\">\n",
       "      <th></th>\n",
       "      <th>Share of switcher</th>\n",
       "      <th>Avg_prior_exp_u_new</th>\n",
       "      <th>Avg_realised_Utility_new</th>\n",
       "    </tr>\n",
       "  </thead>\n",
       "  <tbody>\n",
       "    <tr>\n",
       "      <th>0</th>\n",
       "      <td>0.2</td>\n",
       "      <td>4.210409</td>\n",
       "      <td>3.945302</td>\n",
       "    </tr>\n",
       "    <tr>\n",
       "      <th>1</th>\n",
       "      <td>0.2</td>\n",
       "      <td>1.886224</td>\n",
       "      <td>1.552810</td>\n",
       "    </tr>\n",
       "    <tr>\n",
       "      <th>2</th>\n",
       "      <td>0.2</td>\n",
       "      <td>3.875607</td>\n",
       "      <td>4.060591</td>\n",
       "    </tr>\n",
       "    <tr>\n",
       "      <th>3</th>\n",
       "      <td>0.2</td>\n",
       "      <td>2.683608</td>\n",
       "      <td>2.604479</td>\n",
       "    </tr>\n",
       "    <tr>\n",
       "      <th>4</th>\n",
       "      <td>0.0</td>\n",
       "      <td>3.653471</td>\n",
       "      <td>3.653471</td>\n",
       "    </tr>\n",
       "    <tr>\n",
       "      <th>5</th>\n",
       "      <td>0.2</td>\n",
       "      <td>3.615943</td>\n",
       "      <td>3.715964</td>\n",
       "    </tr>\n",
       "    <tr>\n",
       "      <th>6</th>\n",
       "      <td>0.0</td>\n",
       "      <td>4.326231</td>\n",
       "      <td>4.326231</td>\n",
       "    </tr>\n",
       "    <tr>\n",
       "      <th>7</th>\n",
       "      <td>0.4</td>\n",
       "      <td>3.354253</td>\n",
       "      <td>3.269584</td>\n",
       "    </tr>\n",
       "    <tr>\n",
       "      <th>8</th>\n",
       "      <td>0.0</td>\n",
       "      <td>2.435436</td>\n",
       "      <td>2.435436</td>\n",
       "    </tr>\n",
       "    <tr>\n",
       "      <th>9</th>\n",
       "      <td>0.0</td>\n",
       "      <td>3.043047</td>\n",
       "      <td>3.043047</td>\n",
       "    </tr>\n",
       "  </tbody>\n",
       "</table>\n",
       "</div>"
      ],
      "text/plain": [
       "   Share of switcher  Avg_prior_exp_u_new  Avg_realised_Utility_new\n",
       "0                0.2             4.210409                  3.945302\n",
       "1                0.2             1.886224                  1.552810\n",
       "2                0.2             3.875607                  4.060591\n",
       "3                0.2             2.683608                  2.604479\n",
       "4                0.0             3.653471                  3.653471\n",
       "5                0.2             3.615943                  3.715964\n",
       "6                0.0             4.326231                  4.326231\n",
       "7                0.4             3.354253                  3.269584\n",
       "8                0.0             2.435436                  2.435436\n",
       "9                0.0             3.043047                  3.043047"
      ]
     },
     "execution_count": 1440,
     "metadata": {},
     "output_type": "execute_result"
    }
   ],
   "source": [
    "share_switching = np.zeros((par.N))\n",
    "\n",
    "for i in range(par.N):\n",
    "    #average prior expected utility new \n",
    "    average_prior_expected_new = np.mean(prior_expected_utility_chosen, axis=1)\n",
    "    #average realised utility\n",
    "    average_realised_new = np.mean(realised_utility_new, axis=1)\n",
    "    #share of graduates switching career\n",
    "    share_switching[i] = np.sum(career_new[i,:] != career[i,:])/par.K\n",
    "\n",
    "#display share, average_prior_expected_utility and average_realised_utility in a table\n",
    "average_prior_expected_new_n = average_prior_expected_new.reshape(-1, 1)  # Reshape to column vector\n",
    "average_realised_utility_n = average_realised_new.reshape(-1, 1)  # Reshape to column vector\n",
    "share_switching_n = share_switching.reshape(-1, 1)  # Reshape to column vector\n",
    "\n",
    "# Concatenate all arrays horizontally\n",
    "table = np.hstack((share_switching_n, average_prior_expected_new_n, average_realised_utility_n))\n",
    "\n",
    "# Create a pandas DataFrame for better display\n",
    "column_names = [f'Share of switcher'] + [f'Avg_prior_exp_u_new'] + ['Avg_realised_Utility_new']\n",
    "df_new = pd.DataFrame(table, columns=column_names)\n",
    "\n",
    "# Display the table\n",
    "df_new"
   ]
  },
  {
   "cell_type": "markdown",
   "metadata": {},
   "source": [
    "## 3. <a id='toc3_'></a>[Problem 3: Barycentric interpolation](#toc0_)"
   ]
  },
  {
   "cell_type": "markdown",
   "metadata": {},
   "source": [
    "**Problem:** We have a set of random points in the unit square,\n",
    "\n",
    "$$\n",
    "\\mathcal{X} = \\{(x_1,x_2)\\,|\\,x_1\\sim\\mathcal{U}(0,1),x_2\\sim\\mathcal{U}(0,1)\\}.\n",
    "$$\n",
    "\n",
    "For these points, we know the value of some function $f(x_1,x_2)$,\n",
    "\n",
    "$$\n",
    "\\mathcal{F} = \\{f(x_1,x_2) \\,|\\, (x_1,x_2) \\in \\mathcal{X}\\}.\n",
    "$$\n",
    "\n",
    "Now we want to approximate the value $f(y_1,y_2)$ for some  $y=(y_1,y_2)$, where $y_1\\sim\\mathcal{U}(0,1)$ and $y_2\\sim\\mathcal{U}(0,1)$.\n",
    "\n",
    "**Building block I**\n",
    "\n",
    "For an arbitrary triangle $ABC$ and a point $y$, define the so-called barycentric coordinates as:\n",
    "\n",
    "$$\n",
    "\\begin{align*}\n",
    "  r^{ABC}_1 &= \\frac{(B_2-C_2)(y_1-C_1) + (C_1-B_1)(y_2-C_2)}{(B_2-C_2)(A_1-C_1) + (C_1-B_1)(A_2-C_2)} \\\\\n",
    "  r^{ABC}_2 &= \\frac{(C_2-A_2)(y_1-C_1) + (A_1-C_1)(y_2-C_2)}{(B_2-C_2)(A_1-C_1) + (C_1-B_1)(A_2-C_2)} \\\\\n",
    "  r^{ABC}_3 &= 1 - r_1 - r_2.\n",
    "\\end{align*}\n",
    "$$\n",
    "\n",
    "If $r^{ABC}_1 \\in [0,1]$, $r^{ABC}_2 \\in [0,1]$, and $r^{ABC}_3 \\in [0,1]$, then the point is inside the triangle.\n",
    "\n",
    "We always have $y = r^{ABC}_1 A + r^{ABC}_2 B + r^{ABC}_3 C$.\n",
    "\n",
    "**Building block II**\n",
    "\n",
    "Define the following points:\n",
    "\n",
    "$$\n",
    "\\begin{align*}\n",
    "A&=\\arg\\min_{(x_{1},x_{2})\\in\\mathcal{X}}\\sqrt{\\left(x_{1}-y_{1}\\right)^{2}+\\left(x_{2}-y_{2}\\right)^{2}}\\text{ s.t. }x_{1}>y_{1}\\text{ and }x_{2}>y_{2}\\\\\n",
    "B&=\\arg\\min_{(x_{1},x_{2})\\in\\mathcal{X}}\\sqrt{\\left(x_{1}-y_{1}\\right)^{2}+\\left(x_{2}-y_{2}\\right)^{2}}\\text{ s.t. }x_{1}>y_{1}\\text{ and }x_{2}<y_{2}\\\\\n",
    "C&=\\arg\\min_{(x_{1},x_{2})\\in\\mathcal{X}}\\sqrt{\\left(x_{1}-y_{1}\\right)^{2}+\\left(x_{2}-y_{2}\\right)^{2}}\\text{ s.t. }x_{1}<y_{1}\\text{ and }x_{2}<y_{2}\\\\\n",
    "D&=\\arg\\min_{(x_{1},x_{2})\\in\\mathcal{X}}\\sqrt{\\left(x_{1}-y_{1}\\right)^{2}+\\left(x_{2}-y_{2}\\right)^{2}}\\text{ s.t. }x_{1}<y_{1}\\text{ and }x_{2}>y_{2}.\n",
    "\\end{align*}\n",
    "$$\n",
    "\n",
    "**Algorithm:**\n",
    "\n",
    "1. Compute $A$, $B$, $C$, and $D$. If not possible return `NaN`.\n",
    "1. If $y$ is inside the triangle $ABC$ return $r^{ABC}_1 f(A) + r^{ABC}_2 f(B) + r^{ABC}_3 f(C)$.\n",
    "1. If $y$ is inside the triangle $CDA$ return $r^{CDA}_1 f(C) + r^{CDA}_2 f(D) + r^{CDA}_3 f(A)$.\n",
    "1. Return `NaN`.\n",
    "\n"
   ]
  },
  {
   "cell_type": "markdown",
   "metadata": {},
   "source": [
    "**Sample:**"
   ]
  },
  {
   "cell_type": "code",
   "execution_count": 1412,
   "metadata": {},
   "outputs": [],
   "source": [
    "rng = np.random.default_rng(2024)\n",
    "\n",
    "X = rng.uniform(size=(50,2))\n",
    "y = rng.uniform(size=(2,))\n"
   ]
  },
  {
   "cell_type": "markdown",
   "metadata": {},
   "source": [
    "**Questions 1:** Find $A$, $B$, $C$ and $D$. Illustrate these together with $X$, $y$ and the triangles $ABC$ and $CDA$."
   ]
  },
  {
   "cell_type": "code",
   "execution_count": 1413,
   "metadata": {},
   "outputs": [],
   "source": [
    "# write your answer here"
   ]
  },
  {
   "cell_type": "markdown",
   "metadata": {},
   "source": [
    "**Question 2:** Compute the barycentric coordinates of the point $y$ with respect to the triangles $ABC$ and $CDA$. Which triangle is $y$ located inside?"
   ]
  },
  {
   "cell_type": "code",
   "execution_count": 1414,
   "metadata": {},
   "outputs": [],
   "source": [
    "# write your answer here"
   ]
  },
  {
   "cell_type": "markdown",
   "metadata": {},
   "source": [
    "Now consider the function:\n",
    "$$\n",
    "f(x_1,x_2) = x_1 \\cdot x_2\n",
    "$$"
   ]
  },
  {
   "cell_type": "code",
   "execution_count": 1415,
   "metadata": {},
   "outputs": [],
   "source": [
    "f = lambda x: x[0]*x[1]\n",
    "F = np.array([f(x) for x in X])"
   ]
  },
  {
   "cell_type": "markdown",
   "metadata": {},
   "source": [
    "**Question 3:** Compute the approximation of $f(y)$ using the full algorithm. Compare with the true value."
   ]
  },
  {
   "cell_type": "code",
   "execution_count": 1416,
   "metadata": {},
   "outputs": [],
   "source": [
    "# write your answer here"
   ]
  },
  {
   "cell_type": "markdown",
   "metadata": {},
   "source": [
    "**Question 4:** Repeat question 3 for all points in the set $Y$."
   ]
  },
  {
   "cell_type": "code",
   "execution_count": 1417,
   "metadata": {},
   "outputs": [],
   "source": [
    "Y = [(0.2,0.2),(0.8,0.2),(0.8,0.8),(0.8,0.2),(0.5,0.5)]"
   ]
  },
  {
   "cell_type": "code",
   "execution_count": 1418,
   "metadata": {},
   "outputs": [],
   "source": [
    "# write your answer here"
   ]
  }
 ],
 "metadata": {
  "kernelspec": {
   "display_name": "base",
   "language": "python",
   "name": "python3"
  },
  "language_info": {
   "codemirror_mode": {
    "name": "ipython",
    "version": 3
   },
   "file_extension": ".py",
   "mimetype": "text/x-python",
   "name": "python",
   "nbconvert_exporter": "python",
   "pygments_lexer": "ipython3",
   "version": "3.11.5"
  }
 },
 "nbformat": 4,
 "nbformat_minor": 2
}
