{
 "cells": [
  {
   "cell_type": "markdown",
   "metadata": {},
   "source": [
    "# Solow model augmented with human capital"
   ]
  },
  {
   "cell_type": "markdown",
   "metadata": {},
   "source": [
    "In this project we augment the standard Solow model with human capital and see how this affects the steady state level technology adjusted capital labour ratio  and output."
   ]
  },
  {
   "cell_type": "markdown",
   "metadata": {},
   "source": [
    "Imports and set magics:"
   ]
  },
  {
   "cell_type": "code",
   "execution_count": 1,
   "metadata": {},
   "outputs": [],
   "source": [
    "import numpy as np\n",
    "from scipy import linalg\n",
    "from scipy import optimize\n",
    "import sympy as sm\n",
    "import matplotlib.pyplot as plt\n",
    "import ipywidgets as widgets\n",
    "from IPython.display import display\n",
    "\n",
    "# autoreload modules when code is run\n",
    "%load_ext autoreload\n",
    "%autoreload 2\n",
    "\n",
    "# local modules\n",
    "import modelproject"
   ]
  },
  {
   "cell_type": "markdown",
   "metadata": {},
   "source": [
    "# Model description"
   ]
  },
  {
   "cell_type": "markdown",
   "metadata": {},
   "source": [
    "Consider the **augmented Solow-model with human capital** where:\n",
    "\n",
    "1. $K_t$ is capital\n",
    "2. $H_t$ is total human capital ($H_t = h_t * L_t$)\n",
    "3. $L_t$ is labor (growing with a constant rate of $n$)\n",
    "4. $A_t$ is technology (growing with a constant rate of $g$)\n",
    "5. $Y_t = F(K_t,A_tL_t)$ is GDP\n",
    "6. $s_K$ is the saving rate of capital\n",
    "7. $s_H$ is the saving rate of human capital\n",
    "\n",
    "**Saving** is a constant fraction of GDP\n",
    "\n",
    "$$ \n",
    "S_t = (s_{K} + s_{H})Y_t,\\,s_{K},s_{H}\\in(0,1)\n",
    "$$\n",
    "\n",
    "such that **capital accumulates** according to\n",
    "\n",
    "$$\n",
    "K_{t+1}=s_{K}Y_{t}+(1-\\delta)K_{t}=s_{K}F(K_{t}H_{t},A_{t}L_{t})+(1-\\delta)K_{t}, \\delta \\in (0,1)\n",
    "$$\n",
    "\n",
    "and that **human capital accumulates** according to\n",
    "\n",
    "$$\n",
    "H_{t+1}=s_{H}Y_{t}+(1-\\delta)H_{t}=s_{H}F(K_{t}H_{t},A_{t}L_{t})+(1-\\delta)H_{t}, \\delta \\in (0,1)\n",
    "$$\n",
    "\n",
    "The **production function** has **constant-return to scale** such that\n",
    "\n",
    "$$\n",
    "\\frac{Y_{t}}{A_{t}L_{t}}=\\frac{F(K_{t}H_{t},A_{t}L_{t})}{A_{t}L_{t}}=F(\\tilde{k}_{t},\\tilde{h}_{t},1)\\equiv f(\\tilde{k}_{t},\\tilde{h}_{t})\n",
    "$$\n",
    "\n",
    "where $\\tilde{k}_t = \\frac{K_t}{A_{t}L_{t}}$ is the technology adjusted capital-labor ratio and $\\tilde{h}_t = \\frac{H_t}{A_{t}L_{t}}$ is the technology adjusted human capital-labor ratio\n",
    "\n",
    "The **transition equations** then becomes\n",
    "\n",
    "$$\n",
    "\\tilde{k}_{t+1}= \\frac{1}{(1+n)(1+g)}[s_{K}f(\\tilde{k}_{t},\\tilde{h}_{t})+(1-\\delta)\\tilde{k}_{t}]\n",
    "$$\n",
    "\n",
    "$$\n",
    "\\tilde{h}_{t+1}= \\frac{1}{(1+n)(1+g)}[s_{H}f(\\tilde{k}_{t},\\tilde{h}_{t})+(1-\\delta)\\tilde{h}_{t}]\n",
    "$$\n",
    "\n",
    "If the **production function** is **Cobb-Douglas** then\n",
    "\n",
    "$$\n",
    "F(K_{t}H_{t},A_{t}L_{t})=K_{t}^{\\alpha}H_{t}^{\\phi}(A_{t}L_{t})^{1-\\alpha-\\phi}\\Rightarrow f(\\tilde{k}_{t},\\tilde{h}_{t})=\\tilde{k}_{t}^{\\alpha}\\tilde{h}_{t}^{\\phi}\n",
    "$$\n",
    "\n"
   ]
  },
  {
   "cell_type": "markdown",
   "metadata": {},
   "source": [
    "## Analytical solution"
   ]
  },
  {
   "cell_type": "markdown",
   "metadata": {},
   "source": [
    "To find the steady states of the two production factors we set $k_t = k_{t+1}$ and $h_t=h_{t+1}$\n",
    "\n",
    "$$\n",
    "\\tilde{k}^{\\ast}= \\frac{1}{(1+n)(1+g)}[s_{K}f(\\tilde{k}^{\\ast},\\tilde{h}^{\\ast})+(1-\\delta)\\tilde{k}^{\\ast}]\n",
    "$$\n",
    "\n",
    "$$\n",
    "\\tilde{h}^{\\ast}= \\frac{1}{(1+n)(1+g)}[s_{H}f(\\tilde{k}^{\\ast},\\tilde{h}^{\\ast})+(1-\\delta)\\tilde{h}^{\\ast}]\n",
    "$$"
   ]
  },
  {
   "cell_type": "code",
   "execution_count": 2,
   "metadata": {},
   "outputs": [],
   "source": [
    "k = sm.symbols('k')\n",
    "h = sm.symbols('h')\n",
    "alpha = sm.symbols('alpha')\n",
    "delta = sm.symbols('delta')\n",
    "phi = sm.symbols('phi')\n",
    "sk = sm.symbols('s_K')\n",
    "sh = sm.symbols('s_H')\n",
    "g = sm.symbols('g')\n",
    "n = sm.symbols('n')"
   ]
  },
  {
   "cell_type": "code",
   "execution_count": 3,
   "metadata": {},
   "outputs": [
    {
     "data": {
      "text/latex": [
       "$\\displaystyle \\left(\\frac{h^{- \\phi} \\left(\\delta + g n + g + n\\right)}{s_{K}}\\right)^{\\frac{1}{\\alpha - 1}}$"
      ],
      "text/plain": [
       "((delta + g*n + g + n)/(h**phi*s_K))**(1/(alpha - 1))"
      ]
     },
     "execution_count": 3,
     "metadata": {},
     "output_type": "execute_result"
    }
   ],
   "source": [
    "# Define f(k)\n",
    "f = k**alpha*h**phi\n",
    "\n",
    "# Transition equation for k and h to find SS\n",
    "ssk = sm.Eq(0,(sk*f-(n+g+delta+n*g)*k)/((1+n)*(1+g)))\n",
    "ssh = sm.Eq(0,(sh*f-(n+g+delta+n*g)*h)/((1+n)*(1+g)))\n",
    "\n",
    "# Isolate for k in transition eq.\n",
    "k1 = sm.solve(ssk,k)[0]\n",
    "\n",
    "# Display solution\n",
    "k1"
   ]
  },
  {
   "cell_type": "code",
   "execution_count": 4,
   "metadata": {},
   "outputs": [
    {
     "data": {
      "text/latex": [
       "$\\displaystyle 0 = \\frac{- h \\left(\\delta + g n + g + n\\right) + h^{\\phi} s_{H} \\left(\\left(\\frac{h^{- \\phi} \\left(\\delta + g n + g + n\\right)}{s_{K}}\\right)^{\\frac{1}{\\alpha - 1}}\\right)^{\\alpha}}{\\left(g + 1\\right) \\left(n + 1\\right)}$"
      ],
      "text/plain": [
       "Eq(0, (-h*(delta + g*n + g + n) + h**phi*s_H*(((delta + g*n + g + n)/(h**phi*s_K))**(1/(alpha - 1)))**alpha)/((g + 1)*(n + 1)))"
      ]
     },
     "execution_count": 4,
     "metadata": {},
     "output_type": "execute_result"
    }
   ],
   "source": [
    "ssh_sub = ssh.subs(k,k1)\n",
    "ssh_sub"
   ]
  },
  {
   "cell_type": "code",
   "execution_count": 5,
   "metadata": {},
   "outputs": [],
   "source": [
    "#solve for h in ssh_sub\n",
    "#h_ss = sm.solve(ssh_sub,h)\n",
    "#h_ss\n",
    "#we can not get a solution for h using the sympy solver, do not know why?"
   ]
  },
  {
   "cell_type": "code",
   "execution_count": 6,
   "metadata": {},
   "outputs": [
    {
     "data": {
      "text/latex": [
       "$\\displaystyle k = \\left(\\frac{s_{H}^{\\phi} s_{K}^{1 - \\phi}}{\\delta + g n + g + n}\\right)^{\\frac{1}{- \\alpha - \\phi + 1}}$"
      ],
      "text/plain": [
       "Eq(k, (s_H**phi*s_K**(1 - phi)/(delta + g*n + g + n))**(1/(-alpha - phi + 1)))"
      ]
     },
     "execution_count": 6,
     "metadata": {},
     "output_type": "execute_result"
    }
   ],
   "source": [
    "#The steady state expresion for k and h: \n",
    "k_ss = sm.Eq(k,(((sk**(1-phi)*sh**phi)/(n+g+delta+n*g))**(1/(1-alpha-phi))))\n",
    "h_ss = sm.Eq(h,(((sk**alpha*sh**(1-alpha))/(n+g+delta+n*g))**(1/(1-alpha-phi))))\n",
    "k_ss"
   ]
  },
  {
   "cell_type": "code",
   "execution_count": 7,
   "metadata": {},
   "outputs": [
    {
     "data": {
      "text/latex": [
       "$\\displaystyle \\left(\\frac{k^{1 - \\alpha} \\left(\\delta + g n + g + n\\right)}{s_{K}}\\right)^{\\frac{1}{\\phi}}$"
      ],
      "text/plain": [
       "(k**(1 - alpha)*(delta + g*n + g + n)/s_K)**(1/phi)"
      ]
     },
     "execution_count": 7,
     "metadata": {},
     "output_type": "execute_result"
    }
   ],
   "source": [
    "#null clines: we isolate both transition equations for h\n",
    "h_k = sm.solve(ssk,h)[0]\n",
    "h_h = sm.solve(ssh,h)[0]\n",
    "h_k"
   ]
  },
  {
   "cell_type": "code",
   "execution_count": 9,
   "metadata": {},
   "outputs": [
    {
     "name": "stdout",
     "output_type": "stream",
     "text": [
      "3.6245745297718917 3.6245745297718917\n"
     ]
    }
   ],
   "source": [
    "# Use sm.lambdify to turn the solution into \n",
    "k_ss_func = sm.lambdify(args=(sk,sh,g,n,delta,alpha, phi),expr=k_ss.rhs)\n",
    "h_ss_func = sm.lambdify(args=(sk,sh,g,n,delta,alpha, phi),expr=h_ss.rhs)\n",
    "\n",
    "# Evaluate the function\n",
    "k_an = k_ss_func(0.2, 0.2, 0.02,0.01,0.1,1/3, 1/3)\n",
    "h_an = h_ss_func(0.2, 0.2, 0.02,0.01,0.1,1/3, 1/3)\n",
    "print(k_an, h_an)"
   ]
  },
  {
   "cell_type": "markdown",
   "metadata": {},
   "source": [
    "## Numerical solution"
   ]
  },
  {
   "cell_type": "markdown",
   "metadata": {},
   "source": [
    "We now solve the model numerically. We start of with defining the parameters:"
   ]
  },
  {
   "cell_type": "code",
   "execution_count": 10,
   "metadata": {},
   "outputs": [],
   "source": [
    "sk_num = 0.2\n",
    "sh_num = 0.2\n",
    "g_num = 0.02\n",
    "n_num = 0.01\n",
    "alpha_num = 1/3\n",
    "phi_num = 1/3\n",
    "delta_num = 0.1"
   ]
  },
  {
   "cell_type": "markdown",
   "metadata": {},
   "source": [
    "We firstly solve the standard solow model without human capital"
   ]
  },
  {
   "cell_type": "code",
   "execution_count": 21,
   "metadata": {},
   "outputs": [
    {
     "name": "stdout",
     "output_type": "stream",
     "text": [
      "the steady state for k is in the standard model 1.9038315392313185\n"
     ]
    }
   ],
   "source": [
    "# Define f\n",
    "f_stand = lambda k_stand: k_stand**alpha_num\n",
    "\n",
    "# Define the objective function\n",
    "obj_kss = lambda kss: kss - (sk_num*f_stand(kss) + (1-delta_num)*kss)/((1+g_num)*(1+n_num))\n",
    "result = optimize.root_scalar(obj_kss,bracket=[0.1,100],method='brentq')\n",
    "\n",
    "print('the steady state for k is in the standard model',result.root) "
   ]
  },
  {
   "cell_type": "markdown",
   "metadata": {},
   "source": [
    "We use the found steady values of ${k}^{*}$ to compute the steady state value of $y^{*}$"
   ]
  },
  {
   "cell_type": "code",
   "execution_count": 12,
   "metadata": {},
   "outputs": [
    {
     "data": {
      "text/plain": [
       "1.2393943320395886"
      ]
     },
     "execution_count": 12,
     "metadata": {},
     "output_type": "execute_result"
    }
   ],
   "source": [
    "y_stand_star = f_stand(result.root)\n",
    "y_stand_star"
   ]
  },
  {
   "cell_type": "markdown",
   "metadata": {},
   "source": [
    "We then solve the augmented solow model with human capital"
   ]
  },
  {
   "cell_type": "code",
   "execution_count": 13,
   "metadata": {},
   "outputs": [
    {
     "name": "stdout",
     "output_type": "stream",
     "text": [
      "[0.1, 0.3020408163265306, 0.5040816326530613, 0.7061224489795919, 0.9081632653061225, 3.624574529771892, 3.6245745297718894, 3.6245745297718948, 3.624574529771866, 3.6245745297718943, 3.6245745297718277, 3.624574529771893, 3.624574529771893, 3.6245745297718948, 3.6245745297718654, 3.6245745297718943, 3.624574529771895, 3.624574529771894, 3.624574529771896, 3.6245745297718948, 3.6245745297718925, 3.624574529771894, 3.6245745297719068, 3.624574529772002, 3.624574529771892, 3.624574529771892, 3.624574529771895, 3.6245745297718956, 3.624574529771893, 3.6245745297718934, 3.624574529771893, 3.6245745297718948, 3.624574529771895, 3.6245745297718974, 3.6245745297718988, 3.6245745297719028, 3.6245745297719103, 3.6245745297719263, 3.6245745297719565, 3.6245745297720067, 3.624574529771892, 3.6245745297718943, 3.624574529771894, 3.624574529771893, 3.6245745297718956, 3.6245745297718925, 3.6245745297718934, 3.624574529771893, 3.6245745297718934, 3.6245745297718956]\n",
      "[0.1, 0.3020408163265306, 0.5040816326530613, 0.7061224489795919, 0.9081632653061225, 3.624574529771892, 3.6245745297718894, 3.6245745297718948, 3.624574529771866, 3.6245745297718943, 3.6245745297718277, 3.624574529771893, 3.624574529771893, 3.6245745297718948, 3.6245745297718654, 3.6245745297718943, 3.624574529771895, 3.624574529771894, 3.624574529771896, 3.6245745297718948, 3.6245745297718925, 3.624574529771894, 3.6245745297719068, 3.624574529772002, 3.624574529771892, 3.624574529771892, 3.624574529771895, 3.6245745297718956, 3.624574529771893, 3.6245745297718934, 3.624574529771893, 3.6245745297718948, 3.624574529771895, 3.6245745297718974, 3.6245745297718988, 3.6245745297719028, 3.6245745297719103, 3.6245745297719263, 3.6245745297719565, 3.6245745297720067, 3.624574529771892, 3.6245745297718943, 3.624574529771894, 3.624574529771893, 3.6245745297718956, 3.6245745297718925, 3.6245745297718934, 3.624574529771893, 3.6245745297718934, 3.6245745297718956]\n"
     ]
    },
    {
     "name": "stderr",
     "output_type": "stream",
     "text": [
      "C:\\Users\\PCUser\\AppData\\Local\\Temp\\ipykernel_5908\\3487670250.py:2: RuntimeWarning: invalid value encountered in scalar power\n",
      "  f = lambda k_num, h_num: k_num**alpha_num*h_num**phi_num\n",
      "c:\\Users\\PCUser\\anaconda3\\Lib\\site-packages\\scipy\\optimize\\_minpack_py.py:177: RuntimeWarning: The iteration is not making good progress, as measured by the \n",
      "  improvement from the last ten iterations.\n",
      "  warnings.warn(msg, RuntimeWarning)\n"
     ]
    }
   ],
   "source": [
    "# Define f\n",
    "f = lambda k_num, h_num: k_num**alpha_num*h_num**phi_num\n",
    "\n",
    "# Define the objective function\n",
    "def equations(vars):\n",
    "    k_num, h_num = vars\n",
    "    eq1 = (sk_num*f(k_num, h_num)-(n_num+g_num+delta_num+n_num*g_num)*k_num)/((1+n_num)*(1+g_num))\n",
    "    eq2 = (sh_num*f(k_num, h_num)-(n_num+g_num+delta_num+n_num*g_num)*h_num)/((1+n_num)*(1+g_num))\n",
    "    return [eq1, eq2]\n",
    "\n",
    "# Find result\n",
    "k_list = []\n",
    "h_list = []\n",
    "for i, j in zip(np.linspace(0.1, 10, 50), np.linspace(0.1, 10, 50)):\n",
    "    k_num, h_num = optimize.fsolve(equations, (i, j))\n",
    "    k_list.append(k_num)\n",
    "    h_list.append(h_num)\n",
    "\n",
    "\n",
    "# Print result\n",
    "print(k_list)\n",
    "print(h_list)\n",
    "\n",
    "#as seen low values of initial guesses does not converge to the analytical solution to the steady state."
   ]
  },
  {
   "cell_type": "markdown",
   "metadata": {},
   "source": [
    "We use the found steady values of $\\tilde{k}_{t}^{*}$ and $\\tilde{h}_{t}^{*}$ to compute the steady state value of $y_t$"
   ]
  },
  {
   "cell_type": "code",
   "execution_count": 14,
   "metadata": {},
   "outputs": [
    {
     "data": {
      "text/plain": [
       "2.359598018881502"
      ]
     },
     "execution_count": 14,
     "metadata": {},
     "output_type": "execute_result"
    }
   ],
   "source": [
    "y_star = f(k_an, h_an)\n",
    "y_star"
   ]
  },
  {
   "cell_type": "code",
   "execution_count": 17,
   "metadata": {},
   "outputs": [
    {
     "name": "stderr",
     "output_type": "stream",
     "text": [
      "<lambdifygenerated-8>:2: RuntimeWarning: divide by zero encountered in scalar power\n",
      "  return (k**(-alpha)*(delta + g*n + g + n)/s_H)**((phi - 1)**(-1.0))\n"
     ]
    }
   ],
   "source": [
    "h_k_nc = sm.lambdify(args=(sk,sh,g,n,delta,alpha, phi, k),expr=h_k)\n",
    "h_h_nc = sm.lambdify(args=(sk,sh,g,n,delta,alpha, phi, k),expr=h_h)\n",
    "\n",
    "# Evaluate the function\n",
    "h_k_nc_list = []\n",
    "h_h_nc_list = []\n",
    "\n",
    "k_val_list = np.linspace(0,2,1000)\n",
    "\n",
    "for k_val in k_val_list:\n",
    "    h_k_num = h_k_nc(0.2, 0.2, 0.02,0.01,0.1,1/3, 1/3, k_val)\n",
    "    h_h_num = h_h_nc(0.2, 0.2, 0.02,0.01,0.1,1/3, 1/3, k_val)\n",
    "    h_k_nc_list.append(h_k_num)\n",
    "    h_h_nc_list.append(h_h_num)\n"
   ]
  },
  {
   "cell_type": "markdown",
   "metadata": {},
   "source": [
    "# Further analysis"
   ]
  },
  {
   "cell_type": "markdown",
   "metadata": {},
   "source": [
    "Make detailed vizualizations of how your model changes with parameter values. \n",
    "\n",
    "Try to make an extension of the model. "
   ]
  },
  {
   "cell_type": "code",
   "execution_count": 24,
   "metadata": {},
   "outputs": [
    {
     "data": {
      "application/vnd.jupyter.widget-view+json": {
       "model_id": "b767b38477e448f892e60d554800d3d6",
       "version_major": 2,
       "version_minor": 0
      },
      "text/plain": [
       "interactive(children=(FloatSlider(value=0.2, description='sk:', max=1.0, step=0.01), FloatSlider(value=0.2, de…"
      ]
     },
     "execution_count": 24,
     "metadata": {},
     "output_type": "execute_result"
    }
   ],
   "source": [
    "# Define a function to plot the data\n",
    "def plot_data(sk, sh, g, n, delta, alpha, phi):\n",
    "    h_k_nc_list = []\n",
    "    h_h_nc_list = []\n",
    "    k_val_list = np.linspace(0,4,1000)\n",
    "    for k_val in k_val_list:\n",
    "        h_k_num = h_k_nc(sk, sh, g, n, delta, alpha, phi, k_val)\n",
    "        h_h_num = h_h_nc(sk, sh, g, n, delta, alpha, phi, k_val)\n",
    "        h_k_nc_list.append(h_k_num)\n",
    "        h_h_nc_list.append(h_h_num)\n",
    "    plt.plot(k_val_list, h_k_nc_list, label='$\\Delta k = 0$')\n",
    "    plt.plot(k_val_list, h_h_nc_list, label='$\\Delta h = 0$')\n",
    "    plt.xlabel('$k_t$ values')\n",
    "    plt.ylabel('$h_t$ values')\n",
    "    plt.title('Plot of h_k and h_h')\n",
    "    plt.legend()\n",
    "    plt.show()\n",
    "\n",
    "# Create sliders for the parameters\n",
    "sk_slider = widgets.FloatSlider(min=0, max=1, step=0.01, value=0.2, description='sk:')\n",
    "sh_slider = widgets.FloatSlider(min=0, max=1, step=0.01, value=0.2, description='sh:')\n",
    "g_slider = widgets.FloatSlider(min=0, max=1, step=0.01, value=0.02, description='g:')\n",
    "n_slider = widgets.FloatSlider(min=0, max=1, step=0.01, value=0.01, description='n:')\n",
    "delta_slider = widgets.FloatSlider(min=0, max=1, step=0.01, value=0.1, description='delta:')\n",
    "alpha_slider = widgets.FloatSlider(min=0, max=1, step=0.01, value=1/3, description='alpha:')\n",
    "phi_slider = widgets.FloatSlider(min=0, max=1, step=0.01, value=1/3, description='phi:')\n",
    "\n",
    "# Create an interactive plot\n",
    "widgets.interactive(plot_data, sk=sk_slider, sh=sh_slider, g=g_slider, n=n_slider, delta=delta_slider, alpha=alpha_slider, phi=phi_slider)"
   ]
  },
  {
   "cell_type": "markdown",
   "metadata": {},
   "source": [
    "The plot illustrates that the implications of the model are highly dependes on the model parameter. For example considering savings rate in physical capital, we see that a higher savings rate leads to a higher technology adjusted physical capital labour ratio ceteris paribus. This is due to increased allocation of output into physical capital. Due to the increase in output from the higher level of physical capital this also implies a increase in the level of human capital. "
   ]
  },
  {
   "cell_type": "markdown",
   "metadata": {},
   "source": [
    "# Conclusion"
   ]
  },
  {
   "cell_type": "markdown",
   "metadata": {},
   "source": [
    "In this project we have augmented the standard Solow model with labor, capital and technology with human capital. We see that the inclusion of this increases the steady state technology adjusted capital labour ratio and output. This is due to the complentarity effects between human and physical capital. These effects improves the marginal product of physical and human capitl respectively. However this conclusion depends on the chosen parameters. "
   ]
  }
 ],
 "metadata": {
  "kernelspec": {
   "display_name": "base",
   "language": "python",
   "name": "python3"
  },
  "language_info": {
   "codemirror_mode": {
    "name": "ipython",
    "version": 3
   },
   "file_extension": ".py",
   "mimetype": "text/x-python",
   "name": "python",
   "nbconvert_exporter": "python",
   "pygments_lexer": "ipython3",
   "version": "3.11.5"
  },
  "toc-autonumbering": true,
  "vscode": {
   "interpreter": {
    "hash": "47ef90cdf3004d3f859f1fb202523c65c07ba7c22eefd261b181f4744e2d0403"
   }
  }
 },
 "nbformat": 4,
 "nbformat_minor": 4
}
