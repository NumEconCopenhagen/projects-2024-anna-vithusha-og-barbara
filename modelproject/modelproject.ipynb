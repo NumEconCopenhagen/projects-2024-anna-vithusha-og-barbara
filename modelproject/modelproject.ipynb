{
 "cells": [
  {
   "cell_type": "markdown",
   "metadata": {},
   "source": [
    "# YOUR PROJECT TITLE"
   ]
  },
  {
   "attachments": {},
   "cell_type": "markdown",
   "metadata": {},
   "source": [
    "> **Note the following:** \n",
    "> 1. This is *not* meant to be an example of an actual **model analysis project**, just an example of how to structure such a project.\n",
    "> 1. Remember the general advice on structuring and commenting your code\n",
    "> 1. The `modelproject.py` file includes a function which could be used multiple times in this notebook."
   ]
  },
  {
   "cell_type": "markdown",
   "metadata": {},
   "source": [
    "Imports and set magics:"
   ]
  },
  {
   "cell_type": "code",
   "execution_count": 2,
   "metadata": {},
   "outputs": [],
   "source": [
    "import numpy as np\n",
    "from scipy import linalg\n",
    "from scipy import optimize\n",
    "import sympy as sm\n",
    "\n",
    "# autoreload modules when code is run\n",
    "%load_ext autoreload\n",
    "%autoreload 2\n",
    "\n",
    "# local modules\n",
    "import modelproject"
   ]
  },
  {
   "cell_type": "markdown",
   "metadata": {},
   "source": [
    "# Model description"
   ]
  },
  {
   "cell_type": "markdown",
   "metadata": {},
   "source": [
    "Consider the **standard Solow-model** where:\n",
    "\n",
    "1. $K_t$ is capital\n",
    "2. $H_t$ is total human capital ($H_t = h_t * L_t$)\n",
    "3. $L_t$ is labor (growing with a constant rate of $n$)\n",
    "4. $A_t$ is technology (growing with a constant rate of $g$)\n",
    "5. $Y_t = F(K_t,A_tL_t)$ is GDP\n",
    "6. $s_K$ is the saving rate of capital\n",
    "7. $s_H$ is the saving rate of human capital\n",
    "\n",
    "**Saving** is a constant fraction of GDP\n",
    "\n",
    "$$ \n",
    "S_t = (s_{K} + s_{H})Y_t,\\,s_{K},s_{H}\\in(0,1)\n",
    "$$\n",
    "\n",
    "such that **capital accumulates** according to\n",
    "\n",
    "$$\n",
    "K_{t+1}=s_{K}Y_{t}+(1-\\delta)K_{t}=s_{K}F(K_{t}H_{t},A_{t}L_{t})+(1-\\delta)K_{t}, \\delta \\in (0,1)\n",
    "$$\n",
    "\n",
    "and that **human capital accumulates** according to\n",
    "\n",
    "$$\n",
    "H_{t+1}=s_{H}Y_{t}+(1-\\delta)H_{t}=s_{H}F(K_{t}H_{t},A_{t}L_{t})+(1-\\delta)H_{t}, \\delta \\in (0,1)\n",
    "$$\n",
    "\n",
    "The **production function** has **constant-return to scale** such that\n",
    "\n",
    "$$\n",
    "\\frac{Y_{t}}{A_{t}L_{t}}=\\frac{F(K_{t}H_{t},A_{t}L_{t})}{A_{t}L_{t}}=F(\\tilde{k}_{t},\\tilde{h}_{t},1)\\equiv f(\\tilde{k}_{t},\\tilde{h}_{t})\n",
    "$$\n",
    "\n",
    "where $\\tilde{k}_t = \\frac{K_t}{A_{t}L_{t}}$ is the technology adjusted capital-labor ratio and $\\tilde{h}_t = \\frac{H_t}{A_{t}L_{t}}$ is the technology adjusted human capital-labor ratio\n",
    "\n",
    "The **transition equations** then becomes\n",
    "\n",
    "$$\n",
    "\\tilde{k}_{t+1}= \\frac{1}{(1+n)(1+g)}[s_{K}f(\\tilde{k}_{t},\\tilde{h}_{t})+(1-\\delta)\\tilde{k}_{t}]\n",
    "$$\n",
    "\n",
    "$$\n",
    "\\tilde{h}_{t+1}= \\frac{1}{(1+n)(1+g)}[s_{H}f(\\tilde{k}_{t},\\tilde{h}_{t})+(1-\\delta)\\tilde{h}_{t}]\n",
    "$$\n",
    "\n",
    "If the **production function** is **Cobb-Douglas** then\n",
    "\n",
    "$$\n",
    "F(K_{t}H_{t},A_{t}L_{t})=K_{t}^{\\alpha}H_{t}^{\\phi}(A_{t}L_{t})^{1-\\alpha-\\phi}\\Rightarrow f(\\tilde{k}_{t},\\tilde{h}_{t})=\\tilde{k}_{t}^{\\alpha}\\tilde{h}_{t}^{\\phi}\n",
    "$$\n",
    "\n"
   ]
  },
  {
   "cell_type": "markdown",
   "metadata": {},
   "source": [
    "## Analytical solution"
   ]
  },
  {
   "cell_type": "markdown",
   "metadata": {},
   "source": [
    "To find the steady states of the two production factors we set $k_t = k_{t+1}$ and $h_t=h_{t+1}$\n",
    "\n",
    "$$\n",
    "\\tilde{k}^{\\ast}= \\frac{1}{(1+n)(1+g)}[s_{K}f(\\tilde{k}^{\\ast},\\tilde{h}^{\\ast})+(1-\\delta)\\tilde{k}^{\\ast}]\n",
    "$$\n",
    "\n",
    "$$\n",
    "\\tilde{h}^{\\ast}= \\frac{1}{(1+n)(1+g)}[s_{H}f(\\tilde{k}^{\\ast},\\tilde{h}^{\\ast})+(1-\\delta)\\tilde{h}^{\\ast}]\n",
    "$$"
   ]
  },
  {
   "cell_type": "code",
   "execution_count": 28,
   "metadata": {},
   "outputs": [],
   "source": [
    "k = sm.symbols('k')\n",
    "h = sm.symbols('h')\n",
    "alpha = sm.symbols('alpha')\n",
    "delta = sm.symbols('delta')\n",
    "phi = sm.symbols('phi')\n",
    "sk = sm.symbols('s_K')\n",
    "sh = sm.symbols('s_H')\n",
    "g = sm.symbols('g')\n",
    "n = sm.symbols('n')"
   ]
  },
  {
   "cell_type": "code",
   "execution_count": 36,
   "metadata": {},
   "outputs": [
    {
     "data": {
      "text/latex": [
       "$\\displaystyle 0 = \\frac{- h \\left(\\delta + g n + g + n\\right) + h^{\\phi} k^{\\alpha} s_{H}}{\\left(g + 1\\right) \\left(n + 1\\right)}$"
      ],
      "text/plain": [
       "Eq(0, (-h*(delta + g*n + g + n) + h**phi*k**alpha*s_H)/((g + 1)*(n + 1)))"
      ]
     },
     "execution_count": 36,
     "metadata": {},
     "output_type": "execute_result"
    }
   ],
   "source": [
    "# Define f(k)\n",
    "f = k**alpha*h**phi\n",
    "\n",
    "# Transition equation for k and h to find SS\n",
    "ssk = sm.Eq(0,(sk*f-(n+g+delta+n*g)*k)/((1+n)*(1+g)))\n",
    "ssh = sm.Eq(0,(sh*f-(n+g+delta+n*g)*h)/((1+n)*(1+g)))\n",
    "\n",
    "# Isolate for k and h in transition eq.\n",
    "k1 = sm.solve(ssk,k)[0]\n",
    "\n",
    "# Display solution\n",
    "ssh"
   ]
  },
  {
   "cell_type": "code",
   "execution_count": 37,
   "metadata": {},
   "outputs": [
    {
     "data": {
      "text/latex": [
       "$\\displaystyle \\left(\\frac{h^{- \\phi} \\left(\\delta + g n + g + n\\right)}{s_{K}}\\right)^{\\frac{1}{\\alpha - 1}}$"
      ],
      "text/plain": [
       "((delta + g*n + g + n)/(h**phi*s_K))**(1/(alpha - 1))"
      ]
     },
     "execution_count": 37,
     "metadata": {},
     "output_type": "execute_result"
    }
   ],
   "source": [
    "k1"
   ]
  },
  {
   "cell_type": "code",
   "execution_count": 38,
   "metadata": {},
   "outputs": [
    {
     "data": {
      "text/latex": [
       "$\\displaystyle 0 = \\frac{- h \\left(\\delta + g n + g + n\\right) + h^{\\phi} s_{H} \\left(\\left(\\frac{h^{- \\phi} \\left(\\delta + g n + g + n\\right)}{s_{K}}\\right)^{\\frac{1}{\\alpha - 1}}\\right)^{\\alpha}}{\\left(g + 1\\right) \\left(n + 1\\right)}$"
      ],
      "text/plain": [
       "Eq(0, (-h*(delta + g*n + g + n) + h**phi*s_H*(((delta + g*n + g + n)/(h**phi*s_K))**(1/(alpha - 1)))**alpha)/((g + 1)*(n + 1)))"
      ]
     },
     "execution_count": 38,
     "metadata": {},
     "output_type": "execute_result"
    }
   ],
   "source": [
    "ssh_sub = ssh.subs(k,k1)\n",
    "\n",
    "ssh_sub\n"
   ]
  },
  {
   "cell_type": "code",
   "execution_count": 39,
   "metadata": {},
   "outputs": [
    {
     "ename": "NotImplementedError",
     "evalue": "multiple generators [h, ((delta/(h**phi*s_K) + g*n/(h**phi*s_K) + g/(h**phi*s_K) + n/(h**phi*s_K))**(1/(alpha - 1)))**alpha, h**phi]\nNo algorithms are implemented to solve equation -h*(delta + g*n + g + n) + h**phi*s_H*(((delta + g*n + g + n)/(h**phi*s_K))**(1/(alpha - 1)))**alpha",
     "output_type": "error",
     "traceback": [
      "\u001b[0;31m---------------------------------------------------------------------------\u001b[0m",
      "\u001b[0;31mNotImplementedError\u001b[0m                       Traceback (most recent call last)",
      "\u001b[1;32m/Users/barbaramus/Desktop/IntroProgNum/projects-2024-anna-vithusha-og-barbara/modelproject/modelproject.ipynb Cell 13\u001b[0m line \u001b[0;36m1\n\u001b[0;32m----> <a href='vscode-notebook-cell:/Users/barbaramus/Desktop/IntroProgNum/projects-2024-anna-vithusha-og-barbara/modelproject/modelproject.ipynb#X34sZmlsZQ%3D%3D?line=0'>1</a>\u001b[0m hss \u001b[39m=\u001b[39m sm\u001b[39m.\u001b[39msolve(ssh_sub,h)\n\u001b[1;32m      <a href='vscode-notebook-cell:/Users/barbaramus/Desktop/IntroProgNum/projects-2024-anna-vithusha-og-barbara/modelproject/modelproject.ipynb#X34sZmlsZQ%3D%3D?line=2'>3</a>\u001b[0m hss\n",
      "File \u001b[0;32m~/anaconda3/lib/python3.11/site-packages/sympy/solvers/solvers.py:1145\u001b[0m, in \u001b[0;36msolve\u001b[0;34m(f, *symbols, **flags)\u001b[0m\n\u001b[1;32m   1143\u001b[0m         solution \u001b[39m=\u001b[39m _solve_undetermined(f[\u001b[39m0\u001b[39m], symbols, flags)\n\u001b[1;32m   1144\u001b[0m     \u001b[39mif\u001b[39;00m \u001b[39mnot\u001b[39;00m solution:\n\u001b[0;32m-> 1145\u001b[0m         solution \u001b[39m=\u001b[39m _solve(f[\u001b[39m0\u001b[39m], \u001b[39m*\u001b[39msymbols, \u001b[39m*\u001b[39m\u001b[39m*\u001b[39mflags)\n\u001b[1;32m   1146\u001b[0m \u001b[39melse\u001b[39;00m:\n\u001b[1;32m   1147\u001b[0m     linear, solution \u001b[39m=\u001b[39m _solve_system(f, symbols, \u001b[39m*\u001b[39m\u001b[39m*\u001b[39mflags)\n",
      "File \u001b[0;32m~/anaconda3/lib/python3.11/site-packages/sympy/solvers/solvers.py:1374\u001b[0m, in \u001b[0;36m_solve\u001b[0;34m(f, *symbols, **flags)\u001b[0m\n\u001b[1;32m   1372\u001b[0m         result \u001b[39m=\u001b[39m \u001b[39mset\u001b[39m()\n\u001b[1;32m   1373\u001b[0m         \u001b[39mbreak\u001b[39;00m\n\u001b[0;32m-> 1374\u001b[0m     soln \u001b[39m=\u001b[39m _vsolve(m, symbol, \u001b[39m*\u001b[39m\u001b[39m*\u001b[39mflags)\n\u001b[1;32m   1375\u001b[0m     result\u001b[39m.\u001b[39mupdate(\u001b[39mset\u001b[39m(soln))\n\u001b[1;32m   1376\u001b[0m result \u001b[39m=\u001b[39m [{symbol: v} \u001b[39mfor\u001b[39;00m v \u001b[39min\u001b[39;00m result]\n",
      "File \u001b[0;32m~/anaconda3/lib/python3.11/site-packages/sympy/solvers/solvers.py:2606\u001b[0m, in \u001b[0;36m_vsolve\u001b[0;34m(e, s, **flags)\u001b[0m\n\u001b[1;32m   2604\u001b[0m \u001b[39mdef\u001b[39;00m \u001b[39m_vsolve\u001b[39m(e, s, \u001b[39m*\u001b[39m\u001b[39m*\u001b[39mflags):\n\u001b[1;32m   2605\u001b[0m \u001b[39m    \u001b[39m\u001b[39m\"\"\"return list of scalar values for the solution of e for symbol s\"\"\"\u001b[39;00m\n\u001b[0;32m-> 2606\u001b[0m     \u001b[39mreturn\u001b[39;00m [i[s] \u001b[39mfor\u001b[39;00m i \u001b[39min\u001b[39;00m _solve(e, s, \u001b[39m*\u001b[39m\u001b[39m*\u001b[39mflags)]\n",
      "File \u001b[0;32m~/anaconda3/lib/python3.11/site-packages/sympy/solvers/solvers.py:1693\u001b[0m, in \u001b[0;36m_solve\u001b[0;34m(f, *symbols, **flags)\u001b[0m\n\u001b[1;32m   1690\u001b[0m \u001b[39m# ----------- end of fallback ----------------------------\u001b[39;00m\n\u001b[1;32m   1692\u001b[0m \u001b[39mif\u001b[39;00m result \u001b[39mis\u001b[39;00m \u001b[39mFalse\u001b[39;00m:\n\u001b[0;32m-> 1693\u001b[0m     \u001b[39mraise\u001b[39;00m \u001b[39mNotImplementedError\u001b[39;00m(\u001b[39m'\u001b[39m\u001b[39m\\n\u001b[39;00m\u001b[39m'\u001b[39m\u001b[39m.\u001b[39mjoin([msg, not_impl_msg \u001b[39m%\u001b[39m f]))\n\u001b[1;32m   1695\u001b[0m result \u001b[39m=\u001b[39m _remove_duplicate_solutions(result)\n\u001b[1;32m   1697\u001b[0m \u001b[39mif\u001b[39;00m flags\u001b[39m.\u001b[39mget(\u001b[39m'\u001b[39m\u001b[39msimplify\u001b[39m\u001b[39m'\u001b[39m, \u001b[39mTrue\u001b[39;00m):\n",
      "\u001b[0;31mNotImplementedError\u001b[0m: multiple generators [h, ((delta/(h**phi*s_K) + g*n/(h**phi*s_K) + g/(h**phi*s_K) + n/(h**phi*s_K))**(1/(alpha - 1)))**alpha, h**phi]\nNo algorithms are implemented to solve equation -h*(delta + g*n + g + n) + h**phi*s_H*(((delta + g*n + g + n)/(h**phi*s_K))**(1/(alpha - 1)))**alpha"
     ]
    }
   ],
   "source": [
    "hss = sm.solve(ssh_sub,h)\n",
    "\n",
    "hss"
   ]
  },
  {
   "cell_type": "code",
   "execution_count": null,
   "metadata": {},
   "outputs": [
    {
     "data": {
      "text/plain": [
       "1.903831539231319"
      ]
     },
     "metadata": {},
     "output_type": "display_data"
    }
   ],
   "source": [
    "# Use sm.lambdify to turn the solution into \n",
    "ss_func = sm.lambdify(args=(s,g,n,delta,alpha),expr=kss)\n",
    "\n",
    "# Evaluate the function\n",
    "ss_func(0.2,0.02,0.01,0.1,1/3)"
   ]
  },
  {
   "cell_type": "markdown",
   "metadata": {},
   "source": [
    "## Numerical solution"
   ]
  },
  {
   "cell_type": "markdown",
   "metadata": {},
   "source": [
    "You can always solve a model numerically. \n",
    "\n",
    "Define first the set of parameters you need. \n",
    "\n",
    "Then choose one of the optimization algorithms that we have gone through in the lectures based on what you think is most fitting for your model.\n",
    "\n",
    "Are there any problems with convergence? Does the model converge for all starting values? Make a lot of testing to figure these things out. "
   ]
  },
  {
   "cell_type": "code",
   "execution_count": null,
   "metadata": {},
   "outputs": [
    {
     "name": "stdout",
     "output_type": "stream",
     "text": [
      "the steady state for k is 1.9038315392313185\n"
     ]
    }
   ],
   "source": [
    "s = 0.2\n",
    "g = 0.02\n",
    "n = 0.01\n",
    "alpha = 1/3\n",
    "delta = 0.1\n",
    "\n",
    "# Define f\n",
    "f = lambda k: k**alpha\n",
    "\n",
    "# Define the objective function\n",
    "obj_kss = lambda kss: kss - (s*f(kss) + (1-delta)*kss)/((1+g)*(1+n))\n",
    "\n",
    "# Find result\n",
    "result = optimize.root_scalar(obj_kss,bracket=[0.1,100],method='brentq')\n",
    "\n",
    "# Print result\n",
    "print('the steady state for k is',result.root)   "
   ]
  },
  {
   "cell_type": "markdown",
   "metadata": {},
   "source": [
    "### CES"
   ]
  },
  {
   "cell_type": "code",
   "execution_count": null,
   "metadata": {},
   "outputs": [
    {
     "name": "stdout",
     "output_type": "stream",
     "text": [
      "for beta = -0.500 the steady state for k is 1.8471297000972984\n",
      "for beta = -0.250 the steady state for k is 1.873383262758588\n",
      "for beta = -0.100 the steady state for k is 1.8910856397655083\n",
      "for beta = -0.050 the steady state for k is 1.8973581025712734\n",
      "for beta = 0.050 the steady state for k is 1.9105159729244352\n",
      "for beta = 0.100 the steady state for k is 1.917422132817728\n",
      "for beta = 0.250 the steady state for k is 1.9395902733676993\n",
      "for beta = 0.500 the steady state for k is 1.9822334997701418\n"
     ]
    }
   ],
   "source": [
    "betas = [-0.5,-0.25,-0.1,-0.05,0.05,0.1,0.25,0.5]\n",
    "\n",
    "for beta in betas:\n",
    "    # Define f\n",
    "    f = lambda k: (alpha*k**beta + (1-alpha))**(1/beta)\n",
    "\n",
    "    # Define the objective function\n",
    "    obj_kss = lambda kss: kss - (s*f(kss) + (1-delta)*kss)/((1+g)*(1+n))\n",
    "\n",
    "    # Find result\n",
    "    result = optimize.root_scalar(obj_kss,bracket=[0.1,100],method='brentq')\n",
    "\n",
    "    # Print result\n",
    "    print(f'for beta = {beta:.3f} the steady state for k is',result.root) "
   ]
  },
  {
   "cell_type": "markdown",
   "metadata": {},
   "source": [
    "# Further analysis"
   ]
  },
  {
   "cell_type": "markdown",
   "metadata": {},
   "source": [
    "Make detailed vizualizations of how your model changes with parameter values. \n",
    "\n",
    "Try to make an extension of the model. "
   ]
  },
  {
   "cell_type": "markdown",
   "metadata": {},
   "source": [
    "# Conclusion"
   ]
  },
  {
   "cell_type": "markdown",
   "metadata": {},
   "source": [
    "Add concise conclusion. "
   ]
  }
 ],
 "metadata": {
  "kernelspec": {
   "display_name": "base",
   "language": "python",
   "name": "python3"
  },
  "language_info": {
   "codemirror_mode": {
    "name": "ipython",
    "version": 3
   },
   "file_extension": ".py",
   "mimetype": "text/x-python",
   "name": "python",
   "nbconvert_exporter": "python",
   "pygments_lexer": "ipython3",
   "version": "3.11.7"
  },
  "toc-autonumbering": true,
  "vscode": {
   "interpreter": {
    "hash": "47ef90cdf3004d3f859f1fb202523c65c07ba7c22eefd261b181f4744e2d0403"
   }
  }
 },
 "nbformat": 4,
 "nbformat_minor": 4
}
